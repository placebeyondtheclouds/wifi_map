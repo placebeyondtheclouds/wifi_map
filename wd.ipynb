{
 "cells": [
  {
   "cell_type": "markdown",
   "metadata": {},
   "source": [
    "source：https://github.com/AlexLynd/ESP8266-Wardriving"
   ]
  },
  {
   "cell_type": "markdown",
   "metadata": {
    "id": "HrwWKt06VPum"
   },
   "source": [
    "the dataset: gathered the data by walking around with WiGLE, exported to csv"
   ]
  },
  {
   "cell_type": "markdown",
   "metadata": {},
   "source": [
    "the task: filter data by different criteria, plot on the map"
   ]
  },
  {
   "cell_type": "code",
   "execution_count": null,
   "metadata": {},
   "outputs": [],
   "source": [
    "import numpy as np\n",
    "import pandas as pd\n",
    "import folium\n",
    "from folium import Map, Marker\n",
    "import random\n",
    "import matplotlib.pyplot as plt\n",
    "color_list = ['black', 'darkblue', 'cadetblue', 'pink', 'darkred', 'white', 'orange', 'purple', 'lightblue', 'darkpurple', 'gray', 'red', 'lightgray', 'lightred', 'green', 'darkgreen', 'beige', 'lightgreen', 'blue']\n"
   ]
  },
  {
   "cell_type": "code",
   "execution_count": null,
   "metadata": {
    "scrolled": true
   },
   "outputs": [],
   "source": [
    "def importdataset():\n",
    "    global wd\n",
    "    wd = pd.read_csv ('WigleWifi_20210906181508.csv', skiprows=1) \n",
    "    print(f\"total devices: {len(wd)}\") # number of detected devices"
   ]
  },
  {
   "cell_type": "markdown",
   "metadata": {},
   "source": [
    "# explore and clean the data"
   ]
  },
  {
   "cell_type": "code",
   "execution_count": null,
   "metadata": {
    "scrolled": true
   },
   "outputs": [],
   "source": [
    "importdataset()\n",
    "wd.sample(5)"
   ]
  },
  {
   "cell_type": "code",
   "execution_count": null,
   "metadata": {},
   "outputs": [],
   "source": [
    "wd[\"MAC\"].value_counts()"
   ]
  },
  {
   "cell_type": "code",
   "execution_count": null,
   "metadata": {},
   "outputs": [],
   "source": [
    "#take a look how many unique valid MACs are there and how many entries in total\n",
    "wd.loc[(wd['MAC'].str.len() == 17)][\"MAC\"].describe()"
   ]
  },
  {
   "cell_type": "code",
   "execution_count": null,
   "metadata": {},
   "outputs": [],
   "source": [
    "print(f\"number of unique APs: {len(wd['MAC'].unique())}\")"
   ]
  },
  {
   "cell_type": "code",
   "execution_count": null,
   "metadata": {},
   "outputs": [],
   "source": []
  },
  {
   "cell_type": "markdown",
   "metadata": {},
   "source": [
    "# plot all WCDMA towers"
   ]
  },
  {
   "cell_type": "code",
   "execution_count": null,
   "metadata": {
    "id": "aGkPGbSbQ7bV"
   },
   "outputs": [],
   "source": [
    "importdataset()\n",
    "wd.sample(5)"
   ]
  },
  {
   "cell_type": "code",
   "execution_count": null,
   "metadata": {
    "id": "GyUF0R86R_jV"
   },
   "outputs": [],
   "source": [
    "# drop all else except WCDMA\n",
    "wd = pd.DataFrame( wd.loc[wd['Type'] == \"WCDMA\"] )\n",
    "wd = wd.reset_index(drop=True)\n",
    "wd.sample(5)"
   ]
  },
  {
   "cell_type": "code",
   "execution_count": null,
   "metadata": {},
   "outputs": [],
   "source": [
    "wd['MAC'].value_counts()"
   ]
  },
  {
   "cell_type": "code",
   "execution_count": null,
   "metadata": {},
   "outputs": [],
   "source": [
    "#color code different MACs\n",
    "wd[\"Color\"] = None\n",
    "for index, row in wd.iterrows():\n",
    "    if wd['Color'][index] == None:\n",
    "        wd.loc[wd['MAC'] == wd['MAC'][index],\"Color\"] = random.choice(color_list)"
   ]
  },
  {
   "cell_type": "code",
   "execution_count": null,
   "metadata": {
    "scrolled": true
   },
   "outputs": [],
   "source": [
    "pd.DataFrame (wd, columns=['Color','MAC']).value_counts()"
   ]
  },
  {
   "cell_type": "code",
   "execution_count": null,
   "metadata": {
    "colab": {
     "base_uri": "https://localhost:8080/",
     "height": 780
    },
    "id": "M_DlRrUdbaHX",
    "outputId": "311e156c-5fb1-40c1-ff23-970da053a97e"
   },
   "outputs": [],
   "source": [
    "lat = wd[\"CurrentLatitude\"][0]\n",
    "lon = wd[\"CurrentLongitude\"][0]\n",
    "basic_map = folium.Map(location=[lat, lon],zoom_start=17) # manually pick scope of map\n",
    "\n",
    "# folium.PolyLine(wd[['CurrentLatitude', 'CurrentLongitude']].values.tolist(),line_opacity = 0.5, weight = 4).add_to(basic_map) # plot route\n",
    "\n",
    "# add markers for every point in dataset \n",
    "for i in range(len(wd)): \n",
    "#     if wd[\"FirstSeen\"][i] > \"2021-8-21 18:43:25\" and wd[\"FirstSeen\"][i] < \"2021-8-21 18:46:58\": # add time filter\n",
    "#     if wd[\"RSSI\"][i] > 10:\n",
    "    if wd.loc[wd['MAC'] == wd['MAC'][i],\"RSSI\"].max() == wd[\"RSSI\"][i]:# only plot with highest signal strength\n",
    "        lat = wd[\"CurrentLatitude\"][i]\n",
    "        lon = wd[\"CurrentLongitude\"][i] \n",
    "        folium.Marker( location=[lat, lon], tooltip=f'MAC {wd[\"MAC\"][i]}, strength {wd[\"RSSI\"][i]}', icon=folium.Icon(icon=\"wifi\", color=wd[\"Color\"][i], prefix='fa') ).add_to(basic_map) # annotate GPS location w/ SSID\n",
    "print(f\"total towers: {len(wd['MAC'].unique())}\")        \n",
    "display(basic_map)"
   ]
  },
  {
   "cell_type": "markdown",
   "metadata": {},
   "source": [
    "# "
   ]
  },
  {
   "cell_type": "markdown",
   "metadata": {},
   "source": [
    "# "
   ]
  },
  {
   "cell_type": "markdown",
   "metadata": {},
   "source": [
    "# "
   ]
  },
  {
   "cell_type": "markdown",
   "metadata": {},
   "source": [
    "# plot all WIFI APs with highest signal strength"
   ]
  },
  {
   "cell_type": "code",
   "execution_count": null,
   "metadata": {},
   "outputs": [],
   "source": [
    "importdataset()\n",
    "wd.sample(5)"
   ]
  },
  {
   "cell_type": "code",
   "execution_count": null,
   "metadata": {},
   "outputs": [],
   "source": [
    "#drop everything except those having valid MACs\n",
    "wd = wd.loc[(wd['MAC'].str.len() == 17)]\n",
    "wd = wd.reset_index(drop=True)\n",
    "wd.sample(5)"
   ]
  },
  {
   "cell_type": "code",
   "execution_count": null,
   "metadata": {},
   "outputs": [],
   "source": [
    "wd.info()"
   ]
  },
  {
   "cell_type": "code",
   "execution_count": null,
   "metadata": {},
   "outputs": [],
   "source": [
    "print(f\"total APs: {len(wd['MAC'].unique())}\") "
   ]
  },
  {
   "cell_type": "code",
   "execution_count": null,
   "metadata": {},
   "outputs": [],
   "source": [
    "lat = wd[\"CurrentLatitude\"][0]\n",
    "lon = wd[\"CurrentLongitude\"][0]\n",
    "basic_map = folium.Map(location=[lat, lon],zoom_start=17) # manually pick scope of map\n",
    "\n",
    "# add markers for every point in dataset \n",
    "for i in range(len(wd)): \n",
    "    if wd.loc[wd['SSID'] == wd['SSID'][i],\"RSSI\"].max() == wd[\"RSSI\"][i]: # only plot AP with highest signal strength\n",
    "        lat = wd[\"CurrentLatitude\"][i]\n",
    "        lon = wd[\"CurrentLongitude\"][i]\n",
    "        folium.Marker( location=[lat, lon], tooltip=f'SSID {wd[\"SSID\"][i]}, strength {wd[\"RSSI\"][i]}', icon=folium.Icon(icon=\"wifi\", color=\"blue\", prefix='fa') ).add_to(basic_map) # annotate GPS location w/ SSID\n",
    "print(f\"total APs: {len(wd['MAC'].unique())}\")    \n",
    "display(basic_map)"
   ]
  },
  {
   "cell_type": "markdown",
   "metadata": {},
   "source": [
    "# "
   ]
  },
  {
   "cell_type": "markdown",
   "metadata": {},
   "source": [
    "# "
   ]
  },
  {
   "cell_type": "markdown",
   "metadata": {},
   "source": [
    "# "
   ]
  },
  {
   "cell_type": "markdown",
   "metadata": {},
   "source": [
    "# "
   ]
  },
  {
   "cell_type": "markdown",
   "metadata": {},
   "source": [
    "# plot all WPS-enabled wifi with highest signal strength"
   ]
  },
  {
   "cell_type": "code",
   "execution_count": null,
   "metadata": {
    "scrolled": true
   },
   "outputs": [],
   "source": [
    "importdataset()\n",
    "wd.sample(5)"
   ]
  },
  {
   "cell_type": "code",
   "execution_count": null,
   "metadata": {
    "scrolled": true
   },
   "outputs": [],
   "source": [
    "wd['AuthMode'].value_counts()"
   ]
  },
  {
   "cell_type": "code",
   "execution_count": null,
   "metadata": {},
   "outputs": [],
   "source": [
    "# make a sorted list of authmodes used\n",
    "wd_sorted_list = pd.DataFrame (wd, columns=['AuthMode']).value_counts().rename_axis('Auth_sorted').reset_index(name='counts')\n",
    "wd_sorted_list"
   ]
  },
  {
   "cell_type": "code",
   "execution_count": 56,
   "metadata": {},
   "outputs": [
    {
     "data": {
      "image/png": "[encoded data removed]",
      "text/plain": [
       "<Figure size 432x288 with 1 Axes>"
      ]
     },
     "metadata": {},
     "output_type": "display_data"
    }
   ],
   "source": [
    "# Pie chart, where the slices will be ordered and plotted counter-clockwise:\n",
    "labels = wd_sorted_list['Auth_sorted']\n",
    "sizes = wd_sorted_list['counts']\n",
    "\n",
    "fig1, ax1 = plt.subplots()\n",
    "ax1.pie(sizes,  labels=labels, autopct='%1.1f%%',\n",
    "        shadow=True, startangle=90)\n",
    "ax1.axis('equal')  # Equal aspect ratio ensures that pie is drawn as a circle.\n",
    "plt.show()"
   ]
  },
  {
   "cell_type": "code",
   "execution_count": 57,
   "metadata": {},
   "outputs": [
    {
     "data": {
      "image/png": "[encoded data removed]",
      "text/plain": [
       "<Figure size 432x288 with 1 Axes>"
      ]
     },
     "metadata": {},
     "output_type": "display_data"
    }
   ],
   "source": [
    "ap_total=len(wd)\n",
    "ap_use_wps=len(pd.DataFrame( wd.loc[lambda x: (wd['AuthMode'].str.find('WPS') != -1), :]))\n",
    "# Pie chart, where the slices will be ordered and plotted counter-clockwise:\n",
    "labels = \"all APs\", \"APs that use WPS\"\n",
    "sizes = [ap_total, ap_use_wps]\n",
    "\n",
    "fig1, ax1 = plt.subplots()\n",
    "ax1.pie(sizes,  labels=labels, autopct='%1.1f%%',\n",
    "        shadow=True, startangle=90)\n",
    "ax1.axis('equal')  # Equal aspect ratio ensures that pie is drawn as a circle.\n",
    "plt.show()"
   ]
  },
  {
   "cell_type": "code",
   "execution_count": null,
   "metadata": {},
   "outputs": [],
   "source": [
    "# drop all except those that use WPS\n",
    "wd = pd.DataFrame( wd.loc[lambda x: (wd['AuthMode'].str.find('WPS') != -1), :])\n",
    "wd = wd.reset_index(drop=True)\n",
    "wd.sample(5)"
   ]
  },
  {
   "cell_type": "code",
   "execution_count": 59,
   "metadata": {},
   "outputs": [
    {
     "data": {
      "text/plain": [
       "[WPA-PSK-CCMP+TKIP][WPA2-PSK-CCMP+TKIP][WPS][ESS]           2016\n",
       "[WPA-PSK-CCMP][WPA2-PSK-CCMP][WPS][ESS]                     1460\n",
       "[WPA2-PSK-CCMP][WPS][ESS]                                    921\n",
       "[WPS][ESS]                                                   103\n",
       "[WPA2-PSK-CCMP][WPS][ESS][P2P]                                50\n",
       "[WPA-PSK-TKIP][WPA2-PSK-CCMP][WPS][ESS]                       23\n",
       "[WPA-PSK-CCMP][WPS][ESS]                                       7\n",
       "[WPA2-PSK-CCMP+TKIP][WPS][ESS]                                 5\n",
       "[WPA-PSK-CCMP+TKIP][WPS][ESS]                                  4\n",
       "[WPA2-PSK-CCMP][WPS-AUTH][ESS]                                 3\n",
       "[WPA-PSK-CCMP][WPA2-PSK+FT/PSK-CCMP][WPS][ESS]                 2\n",
       "[WPA2-PSK-CCMP][WPS-PBC][ESS][P2P]                             1\n",
       "[WPA-PSK-CCMP+TKIP][WPA2-PSK+FT/PSK-CCMP+TKIP][WPS][ESS]       1\n",
       "Name: AuthMode, dtype: int64"
      ]
     },
     "execution_count": 59,
     "metadata": {},
     "output_type": "execute_result"
    }
   ],
   "source": [
    "wd['AuthMode'].value_counts()"
   ]
  },
  {
   "cell_type": "code",
   "execution_count": 60,
   "metadata": {},
   "outputs": [
    {
     "data": {
      "text/html": [
       "<div>\n",
       "<style scoped>\n",
       "    .dataframe tbody tr th:only-of-type {\n",
       "        vertical-align: middle;\n",
       "    }\n",
       "\n",
       "    .dataframe tbody tr th {\n",
       "        vertical-align: top;\n",
       "    }\n",
       "\n",
       "    .dataframe thead th {\n",
       "        text-align: right;\n",
       "    }\n",
       "</style>\n",
       "<table border=\"1\" class=\"dataframe\">\n",
       "  <thead>\n",
       "    <tr style=\"text-align: right;\">\n",
       "      <th></th>\n",
       "      <th>Auth_sorted</th>\n",
       "      <th>counts</th>\n",
       "    </tr>\n",
       "  </thead>\n",
       "  <tbody>\n",
       "    <tr>\n",
       "      <th>0</th>\n",
       "      <td>[WPA-PSK-CCMP+TKIP][WPA2-PSK-CCMP+TKIP][WPS][ESS]</td>\n",
       "      <td>2016</td>\n",
       "    </tr>\n",
       "    <tr>\n",
       "      <th>1</th>\n",
       "      <td>[WPA-PSK-CCMP][WPA2-PSK-CCMP][WPS][ESS]</td>\n",
       "      <td>1460</td>\n",
       "    </tr>\n",
       "    <tr>\n",
       "      <th>2</th>\n",
       "      <td>[WPA2-PSK-CCMP][WPS][ESS]</td>\n",
       "      <td>921</td>\n",
       "    </tr>\n",
       "    <tr>\n",
       "      <th>3</th>\n",
       "      <td>[WPS][ESS]</td>\n",
       "      <td>103</td>\n",
       "    </tr>\n",
       "    <tr>\n",
       "      <th>4</th>\n",
       "      <td>[WPA2-PSK-CCMP][WPS][ESS][P2P]</td>\n",
       "      <td>50</td>\n",
       "    </tr>\n",
       "    <tr>\n",
       "      <th>5</th>\n",
       "      <td>[WPA-PSK-TKIP][WPA2-PSK-CCMP][WPS][ESS]</td>\n",
       "      <td>23</td>\n",
       "    </tr>\n",
       "    <tr>\n",
       "      <th>6</th>\n",
       "      <td>[WPA-PSK-CCMP][WPS][ESS]</td>\n",
       "      <td>7</td>\n",
       "    </tr>\n",
       "    <tr>\n",
       "      <th>7</th>\n",
       "      <td>[WPA2-PSK-CCMP+TKIP][WPS][ESS]</td>\n",
       "      <td>5</td>\n",
       "    </tr>\n",
       "    <tr>\n",
       "      <th>8</th>\n",
       "      <td>[WPA-PSK-CCMP+TKIP][WPS][ESS]</td>\n",
       "      <td>4</td>\n",
       "    </tr>\n",
       "    <tr>\n",
       "      <th>9</th>\n",
       "      <td>[WPA2-PSK-CCMP][WPS-AUTH][ESS]</td>\n",
       "      <td>3</td>\n",
       "    </tr>\n",
       "    <tr>\n",
       "      <th>10</th>\n",
       "      <td>[WPA-PSK-CCMP][WPA2-PSK+FT/PSK-CCMP][WPS][ESS]</td>\n",
       "      <td>2</td>\n",
       "    </tr>\n",
       "    <tr>\n",
       "      <th>11</th>\n",
       "      <td>[WPA-PSK-CCMP+TKIP][WPA2-PSK+FT/PSK-CCMP+TKIP]...</td>\n",
       "      <td>1</td>\n",
       "    </tr>\n",
       "    <tr>\n",
       "      <th>12</th>\n",
       "      <td>[WPA2-PSK-CCMP][WPS-PBC][ESS][P2P]</td>\n",
       "      <td>1</td>\n",
       "    </tr>\n",
       "  </tbody>\n",
       "</table>\n",
       "</div>"
      ],
      "text/plain": [
       "                                          Auth_sorted  counts\n",
       "0   [WPA-PSK-CCMP+TKIP][WPA2-PSK-CCMP+TKIP][WPS][ESS]    2016\n",
       "1             [WPA-PSK-CCMP][WPA2-PSK-CCMP][WPS][ESS]    1460\n",
       "2                           [WPA2-PSK-CCMP][WPS][ESS]     921\n",
       "3                                          [WPS][ESS]     103\n",
       "4                      [WPA2-PSK-CCMP][WPS][ESS][P2P]      50\n",
       "5             [WPA-PSK-TKIP][WPA2-PSK-CCMP][WPS][ESS]      23\n",
       "6                            [WPA-PSK-CCMP][WPS][ESS]       7\n",
       "7                      [WPA2-PSK-CCMP+TKIP][WPS][ESS]       5\n",
       "8                       [WPA-PSK-CCMP+TKIP][WPS][ESS]       4\n",
       "9                      [WPA2-PSK-CCMP][WPS-AUTH][ESS]       3\n",
       "10     [WPA-PSK-CCMP][WPA2-PSK+FT/PSK-CCMP][WPS][ESS]       2\n",
       "11  [WPA-PSK-CCMP+TKIP][WPA2-PSK+FT/PSK-CCMP+TKIP]...       1\n",
       "12                 [WPA2-PSK-CCMP][WPS-PBC][ESS][P2P]       1"
      ]
     },
     "execution_count": 60,
     "metadata": {},
     "output_type": "execute_result"
    }
   ],
   "source": [
    "# make a sorted list of authmodes used\n",
    "wd_sorted_list = pd.DataFrame (wd, columns=['AuthMode']).value_counts().rename_axis('Auth_sorted').reset_index(name='counts')\n",
    "wd_sorted_list"
   ]
  },
  {
   "cell_type": "code",
   "execution_count": 61,
   "metadata": {},
   "outputs": [
    {
     "data": {
      "image/png": "[encoded data removed]",
      "text/plain": [
       "<Figure size 432x288 with 1 Axes>"
      ]
     },
     "metadata": {},
     "output_type": "display_data"
    }
   ],
   "source": [
    "# Pie chart, where the slices will be ordered and plotted counter-clockwise:\n",
    "labels = wd_sorted_list['Auth_sorted']\n",
    "sizes = wd_sorted_list['counts']\n",
    "\n",
    "fig1, ax1 = plt.subplots()\n",
    "ax1.pie(sizes,  labels=labels, autopct='%1.1f%%',\n",
    "        shadow=True, startangle=90)\n",
    "ax1.axis('equal')  # Equal aspect ratio ensures that pie is drawn as a circle.\n",
    "plt.show()"
   ]
  },
  {
   "cell_type": "code",
   "execution_count": null,
   "metadata": {},
   "outputs": [],
   "source": [
    "#color code authmodes\n",
    "wd[\"Color\"] = None\n",
    "for index, row in wd.iterrows():\n",
    "    if wd['Color'][index] == None:\n",
    "        wd.loc[wd['AuthMode'] == wd['AuthMode'][index],\"Color\"] = random.choice(color_list)"
   ]
  },
  {
   "cell_type": "code",
   "execution_count": null,
   "metadata": {
    "scrolled": true
   },
   "outputs": [],
   "source": [
    "pd.DataFrame (wd, columns=['Color','AuthMode']).value_counts()"
   ]
  },
  {
   "cell_type": "code",
   "execution_count": null,
   "metadata": {},
   "outputs": [],
   "source": [
    "lat = wd[\"CurrentLatitude\"][0]\n",
    "lon = wd[\"CurrentLongitude\"][0]\n",
    "basic_map = folium.Map(location=[lat, lon],zoom_start=17) # manually pick scope of map\n",
    "\n",
    "# add markers for every point in dataset \n",
    "for i in range(len(wd)): \n",
    "\n",
    "    if wd.loc[wd['SSID'] == wd['SSID'][i],\"RSSI\"].max() == wd[\"RSSI\"][i]: # only plot AP with highest signal strength\n",
    "        lat = wd[\"CurrentLatitude\"][i]\n",
    "        lon = wd[\"CurrentLongitude\"][i]\n",
    "        folium.Marker( location=[lat, lon], tooltip=f'SSID {wd[\"SSID\"][i]}, strength {wd[\"RSSI\"][i]}', icon=folium.Icon(icon=\"wifi\", color=wd[\"Color\"][i], prefix='fa') ).add_to(basic_map) # annotate GPS location w/ SSID\n",
    "print(f\"total APs: {len(wd['MAC'].unique())}\")    \n",
    "display(basic_map)"
   ]
  },
  {
   "cell_type": "code",
   "execution_count": null,
   "metadata": {},
   "outputs": [],
   "source": []
  },
  {
   "cell_type": "code",
   "execution_count": null,
   "metadata": {},
   "outputs": [],
   "source": []
  },
  {
   "cell_type": "code",
   "execution_count": null,
   "metadata": {},
   "outputs": [],
   "source": []
  },
  {
   "cell_type": "code",
   "execution_count": null,
   "metadata": {},
   "outputs": [],
   "source": []
  },
  {
   "cell_type": "markdown",
   "metadata": {},
   "source": [
    "# add vendor names to the dataset"
   ]
  },
  {
   "cell_type": "code",
   "execution_count": null,
   "metadata": {},
   "outputs": [],
   "source": [
    "mac_vendors = pd.read_csv ('mac-vendors.csv', names=(\"MAC\", \"Vendor\")) \n",
    "mac_vendors[\"MAC\"]= mac_vendors[\"MAC\"].str.lower()\n",
    "mac_vendors"
   ]
  },
  {
   "cell_type": "code",
   "execution_count": 63,
   "metadata": {},
   "outputs": [
    {
     "name": "stdout",
     "output_type": "stream",
     "text": [
      "total devices: 14729\n"
     ]
    }
   ],
   "source": [
    "importdataset()"
   ]
  },
  {
   "cell_type": "code",
   "execution_count": null,
   "metadata": {
    "scrolled": true
   },
   "outputs": [],
   "source": [
    "mac_vendors.loc[mac_vendors['MAC'] == wd['MAC'][0][:8],\"Vendor\"]"
   ]
  },
  {
   "cell_type": "code",
   "execution_count": 65,
   "metadata": {},
   "outputs": [
    {
     "name": "stderr",
     "output_type": "stream",
     "text": [
      "/var/folders/cl/c06_nmsn3vv83hvd_tpcfr100000gn/T/ipykernel_24497/2565584916.py:5: SettingWithCopyWarning: \n",
      "A value is trying to be set on a copy of a slice from a DataFrame\n",
      "\n",
      "See the caveats in the documentation: https://pandas.pydata.org/pandas-docs/stable/user_guide/indexing.html#returning-a-view-versus-a-copy\n",
      "  wd[\"Vendor\"][index] = mac_vendors.loc[mac_vendors['MAC'] == row['MAC'][:8],\"Vendor\"].values[0]\n"
     ]
    }
   ],
   "source": [
    "wd['Vendor'] = None\n",
    "for index, row in wd.iterrows():\n",
    "    if wd['Vendor'][index] == None:\n",
    "        if len(mac_vendors.loc[mac_vendors['MAC'] == row['MAC'][:8],\"Vendor\"]) >0: #if there's a match\n",
    "            wd[\"Vendor\"][index] = mac_vendors.loc[mac_vendors['MAC'] == row['MAC'][:8],\"Vendor\"].values[0]\n",
    "            \n"
   ]
  },
  {
   "cell_type": "code",
   "execution_count": 66,
   "metadata": {},
   "outputs": [
    {
     "data": {
      "text/plain": [
       "MAC                     0\n",
       "SSID                  101\n",
       "AuthMode                0\n",
       "FirstSeen               0\n",
       "Channel                 0\n",
       "RSSI                    0\n",
       "CurrentLatitude         0\n",
       "CurrentLongitude        0\n",
       "AltitudeMeters          0\n",
       "AccuracyMeters          0\n",
       "Type                    0\n",
       "Vendor              10649\n",
       "dtype: int64"
      ]
     },
     "execution_count": 66,
     "metadata": {},
     "output_type": "execute_result"
    }
   ],
   "source": [
    "wd.isna().sum()"
   ]
  },
  {
   "cell_type": "code",
   "execution_count": 67,
   "metadata": {},
   "outputs": [
    {
     "data": {
      "text/plain": [
       "TP-LINK TECHNOLOGIES CO.,LTD.                    1162\n",
       "Shenzhen Sundray Technologies Company Limited     459\n",
       "HUAWEI TECHNOLOGIES CO.,LTD                       292\n",
       "Tenda Technology Co.,Ltd.Dongguan branch          273\n",
       "Phicomm (Shanghai) Co., Ltd.                      177\n",
       "                                                 ... \n",
       "Texas Instruments                                   1\n",
       "Beijing LT Honway Technology Co.,Ltd                1\n",
       "Rebound Telecom. Co., Ltd                           1\n",
       "STRAND LIGHTING LIMITED                             1\n",
       "China Mobile IOT Company Limited                    1\n",
       "Name: Vendor, Length: 115, dtype: int64"
      ]
     },
     "execution_count": 67,
     "metadata": {},
     "output_type": "execute_result"
    }
   ],
   "source": [
    "wd[\"Vendor\"].value_counts()"
   ]
  },
  {
   "cell_type": "code",
   "execution_count": null,
   "metadata": {},
   "outputs": [],
   "source": [
    "# "
   ]
  }
 ],
 "metadata": {
  "colab": {
   "authorship_tag": "ABX9TyM1sYMD4/MtngweadK5jn/+",
   "include_colab_link": true,
   "name": "Basic Wardriving Plot.ipynb",
   "provenance": []
  },
  "kernelspec": {
   "display_name": "Python 3 (ipykernel)",
   "language": "python",
   "name": "python3"
  },
  "language_info": {
   "codemirror_mode": {
    "name": "ipython",
    "version": 3
   },
   "file_extension": ".py",
   "mimetype": "text/x-python",
   "name": "python",
   "nbconvert_exporter": "python",
   "pygments_lexer": "ipython3",
   "version": "3.8.10"
  }
 },
 "nbformat": 4,
 "nbformat_minor": 1
}
