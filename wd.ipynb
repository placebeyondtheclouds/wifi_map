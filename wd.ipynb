{
 "cells": [
  {
   "cell_type": "markdown",
   "metadata": {},
   "source": [
    "source：https://github.com/AlexLynd/ESP8266-Wardriving"
   ]
  },
  {
   "cell_type": "markdown",
   "metadata": {
    "id": "HrwWKt06VPum"
   },
   "source": [
    "the dataset: gathered the data by walking around with WiGLE, exported to csv"
   ]
  },
  {
   "cell_type": "markdown",
   "metadata": {},
   "source": [
    "the task: filter data by different criteria, plot on the map"
   ]
  },
  {
   "cell_type": "code",
   "execution_count": null,
   "metadata": {},
   "outputs": [],
   "source": [
    "import numpy as np\n",
    "import pandas as pd\n",
    "import folium\n",
    "from folium import Map, Marker\n",
    "import random\n",
    "import matplotlib.pyplot as plt\n",
    "color_list = ['black', 'darkblue', 'cadetblue', 'pink', 'darkred', 'white', 'orange', 'purple', 'lightblue', 'darkpurple', 'gray', 'red', 'lightgray', 'lightred', 'green', 'darkgreen', 'beige', 'lightgreen', 'blue']\n",
    "from tqdm import tqdm\n",
    "import time\n",
    "plt.rcParams['font.sans-serif']=['STSong'] #Show Chinese label\n",
    "plt.rcParams['axes.unicode_minus']=False   #These two lines need to be set manually\n",
    "import datetime"
   ]
  },
  {
   "cell_type": "code",
   "execution_count": null,
   "metadata": {
    "scrolled": true
   },
   "outputs": [],
   "source": [
    "def importdataset():\n",
    "    global wd\n",
    "    wd = pd.read_csv ('WigleWifi_20210908205108.csv', skiprows=1) \n",
    "    # wd[\"MAC\"]= wd[\"MAC\"].str.lower()\n",
    "    print(f\"total devices: {len(wd)}\") # number of detected devices"
   ]
  },
  {
   "cell_type": "markdown",
   "metadata": {},
   "source": [
    "# explore and clean the data"
   ]
  },
  {
   "cell_type": "code",
   "execution_count": null,
   "metadata": {
    "scrolled": true
   },
   "outputs": [],
   "source": [
    "importdataset()\n",
    "wd.sample(5)"
   ]
  },
  {
   "cell_type": "code",
   "execution_count": null,
   "metadata": {},
   "outputs": [],
   "source": [
    "wd[\"MAC\"].value_counts()"
   ]
  },
  {
   "cell_type": "code",
   "execution_count": null,
   "metadata": {},
   "outputs": [],
   "source": [
    "#take a look how many unique valid MACs are there and how many entries in total\n",
    "wd.loc[(wd['MAC'].str.len() == 17)][\"MAC\"].describe()"
   ]
  },
  {
   "cell_type": "code",
   "execution_count": null,
   "metadata": {},
   "outputs": [],
   "source": [
    "print(f\"number of unique APs: {len(wd['MAC'].unique())}\")"
   ]
  },
  {
   "cell_type": "code",
   "execution_count": null,
   "metadata": {},
   "outputs": [],
   "source": [
    "pd.DataFrame (wd['MAC'].unique())"
   ]
  },
  {
   "cell_type": "code",
   "execution_count": null,
   "metadata": {},
   "outputs": [],
   "source": [
    "pd.DataFrame (wd.loc[(wd['MAC'].str.len() == 17)][\"MAC\"])"
   ]
  },
  {
   "cell_type": "markdown",
   "metadata": {},
   "source": [
    "# plot all WCDMA towers"
   ]
  },
  {
   "cell_type": "code",
   "execution_count": null,
   "metadata": {
    "id": "aGkPGbSbQ7bV"
   },
   "outputs": [],
   "source": [
    "importdataset()\n",
    "wd.sample(5)"
   ]
  },
  {
   "cell_type": "code",
   "execution_count": null,
   "metadata": {
    "id": "GyUF0R86R_jV"
   },
   "outputs": [],
   "source": [
    "# drop all else except WCDMA\n",
    "wd = pd.DataFrame( wd.loc[wd['Type'] == \"WCDMA\"] )\n",
    "wd = wd.reset_index(drop=True)\n",
    "wd.sample(5)"
   ]
  },
  {
   "cell_type": "code",
   "execution_count": null,
   "metadata": {},
   "outputs": [],
   "source": [
    "wd['MAC'].value_counts()"
   ]
  },
  {
   "cell_type": "code",
   "execution_count": null,
   "metadata": {},
   "outputs": [],
   "source": [
    "#color code different MACs\n",
    "wd[\"Color\"] = None\n",
    "for index, row in wd.iterrows():\n",
    "    if wd['Color'][index] == None:\n",
    "        wd.loc[wd['MAC'] == wd['MAC'][index],\"Color\"] = random.choice(color_list)"
   ]
  },
  {
   "cell_type": "code",
   "execution_count": null,
   "metadata": {
    "scrolled": true
   },
   "outputs": [],
   "source": [
    "pd.DataFrame (wd, columns=['Color','MAC']).value_counts()"
   ]
  },
  {
   "cell_type": "code",
   "execution_count": null,
   "metadata": {
    "colab": {
     "base_uri": "https://localhost:8080/",
     "height": 780
    },
    "id": "M_DlRrUdbaHX",
    "outputId": "311e156c-5fb1-40c1-ff23-970da053a97e"
   },
   "outputs": [],
   "source": [
    "lat = wd[\"CurrentLatitude\"][0]\n",
    "lon = wd[\"CurrentLongitude\"][0]\n",
    "basic_map = folium.Map(location=[lat, lon],zoom_start=17) # manually pick scope of map\n",
    "\n",
    "# folium.PolyLine(wd[['CurrentLatitude', 'CurrentLongitude']].values.tolist(),line_opacity = 0.5, weight = 4).add_to(basic_map) # plot route\n",
    "\n",
    "# add markers for every point in dataset \n",
    "for i in range(len(wd)): \n",
    "#     if wd[\"FirstSeen\"][i] > \"2021-8-21 18:43:25\" and wd[\"FirstSeen\"][i] < \"2021-8-21 18:46:58\": # add time filter\n",
    "#     if wd[\"RSSI\"][i] > 10:\n",
    "    if wd.loc[wd['MAC'] == wd['MAC'][i],\"RSSI\"].max() == wd[\"RSSI\"][i]:# only plot with highest signal strength\n",
    "        lat = wd[\"CurrentLatitude\"][i]\n",
    "        lon = wd[\"CurrentLongitude\"][i] \n",
    "        folium.Marker( location=[lat, lon], tooltip=f'MAC {wd[\"MAC\"][i]}, strength {wd[\"RSSI\"][i]}', icon=folium.Icon(icon=\"wifi\", color=wd[\"Color\"][i], prefix='fa') ).add_to(basic_map) # annotate GPS location w/ SSID\n",
    "print(f\"total towers: {len(wd['MAC'].unique())}\")        \n",
    "display(basic_map)"
   ]
  },
  {
   "cell_type": "markdown",
   "metadata": {},
   "source": [
    "# "
   ]
  },
  {
   "cell_type": "markdown",
   "metadata": {},
   "source": [
    "# "
   ]
  },
  {
   "cell_type": "markdown",
   "metadata": {},
   "source": [
    "# "
   ]
  },
  {
   "cell_type": "markdown",
   "metadata": {},
   "source": [
    "# plot all WIFI APs with highest signal strength"
   ]
  },
  {
   "cell_type": "code",
   "execution_count": null,
   "metadata": {},
   "outputs": [],
   "source": [
    "importdataset()\n",
    "wd.sample(5)"
   ]
  },
  {
   "cell_type": "code",
   "execution_count": null,
   "metadata": {},
   "outputs": [],
   "source": [
    "#drop everything except those having valid MACs\n",
    "wd = wd.loc[(wd['MAC'].str.len() == 17)]\n",
    "wd = wd.reset_index(drop=True)\n",
    "wd.sample(5)"
   ]
  },
  {
   "cell_type": "code",
   "execution_count": null,
   "metadata": {},
   "outputs": [],
   "source": [
    "wd.info()"
   ]
  },
  {
   "cell_type": "code",
   "execution_count": null,
   "metadata": {},
   "outputs": [],
   "source": [
    "print(f\"total APs: {len(wd['MAC'].unique())}\") "
   ]
  },
  {
   "cell_type": "code",
   "execution_count": null,
   "metadata": {},
   "outputs": [],
   "source": [
    "LOOKING_FOR = 'SSID'\n",
    "lat = wd[\"CurrentLatitude\"][0]\n",
    "lon = wd[\"CurrentLongitude\"][0]\n",
    "basic_map = folium.Map(location=[lat, lon],zoom_start=17) # manually pick scope of map\n",
    "\n",
    "# add markers for every point in dataset \n",
    "for i in range(len(wd)): \n",
    "    if wd.loc[wd[LOOKING_FOR] == wd[LOOKING_FOR][i],\"RSSI\"].max() == wd[\"RSSI\"][i]: # only plot AP with highest signal strength\n",
    "        lat = wd[\"CurrentLatitude\"][i]\n",
    "        lon = wd[\"CurrentLongitude\"][i]\n",
    "        folium.Marker( location=[lat, lon], tooltip=f'{LOOKING_FOR} {wd[LOOKING_FOR][i]}, strength {wd[\"RSSI\"][i]}', icon=folium.Icon(icon=\"wifi\", color=\"blue\", prefix='fa') ).add_to(basic_map) # annotate GPS location w/ SSID\n",
    "print(f\"total APs: {len(wd['MAC'].unique())}\")    \n",
    "display(basic_map)"
   ]
  },
  {
   "cell_type": "markdown",
   "metadata": {},
   "source": [
    "# "
   ]
  },
  {
   "cell_type": "markdown",
   "metadata": {},
   "source": [
    "# "
   ]
  },
  {
   "cell_type": "markdown",
   "metadata": {},
   "source": [
    "# "
   ]
  },
  {
   "cell_type": "markdown",
   "metadata": {},
   "source": [
    "# "
   ]
  },
  {
   "cell_type": "markdown",
   "metadata": {},
   "source": [
    "# plot all WPS-enabled wifi with highest signal strength"
   ]
  },
  {
   "cell_type": "code",
   "execution_count": null,
   "metadata": {
    "scrolled": true
   },
   "outputs": [],
   "source": [
    "importdataset()\n",
    "wd.sample(5)"
   ]
  },
  {
   "cell_type": "code",
   "execution_count": null,
   "metadata": {
    "scrolled": false
   },
   "outputs": [],
   "source": [
    "wd['AuthMode'].value_counts()"
   ]
  },
  {
   "cell_type": "code",
   "execution_count": null,
   "metadata": {},
   "outputs": [],
   "source": [
    "# make a sorted list of authmodes used\n",
    "wd_sorted_list = pd.DataFrame (wd, columns=['AuthMode']).value_counts().rename_axis('Auth_sorted').reset_index(name='counts')\n",
    "wd_sorted_list"
   ]
  },
  {
   "cell_type": "code",
   "execution_count": null,
   "metadata": {},
   "outputs": [],
   "source": [
    "# Pie chart, where the slices will be ordered and plotted counter-clockwise:\n",
    "labels = wd_sorted_list['Auth_sorted']\n",
    "sizes = wd_sorted_list['counts']\n",
    "\n",
    "fig1, ax1 = plt.subplots()\n",
    "ax1.pie(sizes,  labels=labels, autopct='%1.1f%%',\n",
    "        shadow=True, startangle=90)\n",
    "ax1.axis('equal')  # Equal aspect ratio ensures that pie is drawn as a circle.\n",
    "plt.show()"
   ]
  },
  {
   "cell_type": "code",
   "execution_count": null,
   "metadata": {},
   "outputs": [],
   "source": [
    "ap_use_wps=len(pd.DataFrame( wd.loc[(wd['AuthMode'].str.contains('WPS')==True)]))\n",
    "ap_other=len(wd)-ap_use_wps\n",
    "# Pie chart, where the slices will be ordered and plotted counter-clockwise:\n",
    "labels = \"other APs\", \"APs that use WPS\"\n",
    "sizes = [ap_other, ap_use_wps]\n",
    "\n",
    "fig1, ax1 = plt.subplots()\n",
    "ax1.pie(sizes,  labels=labels, autopct='%1.1f%%',\n",
    "        shadow=True, startangle=90)\n",
    "ax1.axis('equal')  # Equal aspect ratio ensures that pie is drawn as a circle.\n",
    "plt.show()"
   ]
  },
  {
   "cell_type": "code",
   "execution_count": null,
   "metadata": {},
   "outputs": [],
   "source": [
    "# drop all except those that use WPS\n",
    "wd = pd.DataFrame( wd.loc[lambda x: (wd['AuthMode'].str.contains('WPS')==True), :])\n",
    "wd = wd.reset_index(drop=True)\n",
    "wd.sample(5)"
   ]
  },
  {
   "cell_type": "code",
   "execution_count": null,
   "metadata": {},
   "outputs": [],
   "source": [
    "wd.info()"
   ]
  },
  {
   "cell_type": "code",
   "execution_count": null,
   "metadata": {},
   "outputs": [],
   "source": [
    "wd['AuthMode'].value_counts()"
   ]
  },
  {
   "cell_type": "code",
   "execution_count": null,
   "metadata": {},
   "outputs": [],
   "source": [
    "# make a sorted list of authmodes used\n",
    "wd_sorted_list = pd.DataFrame (wd, columns=['AuthMode']).value_counts().rename_axis('Auth_sorted').reset_index(name='counts')\n",
    "wd_sorted_list"
   ]
  },
  {
   "cell_type": "code",
   "execution_count": null,
   "metadata": {},
   "outputs": [],
   "source": [
    "# Pie chart, where the slices will be ordered and plotted counter-clockwise:\n",
    "labels = wd_sorted_list['Auth_sorted']\n",
    "sizes = wd_sorted_list['counts']\n",
    "\n",
    "fig1, ax1 = plt.subplots()\n",
    "ax1.pie(sizes,  labels=labels, autopct='%1.1f%%',\n",
    "        shadow=True, startangle=90)\n",
    "ax1.axis('equal')  # Equal aspect ratio ensures that pie is drawn as a circle.\n",
    "plt.show()"
   ]
  },
  {
   "cell_type": "code",
   "execution_count": null,
   "metadata": {},
   "outputs": [],
   "source": [
    "#color code authmodes\n",
    "wd[\"Color\"] = None\n",
    "for index, row in wd.iterrows():\n",
    "    if wd['Color'][index] == None:\n",
    "        wd.loc[wd['AuthMode'] == wd['AuthMode'][index],\"Color\"] = random.choice(color_list)"
   ]
  },
  {
   "cell_type": "code",
   "execution_count": null,
   "metadata": {
    "scrolled": true
   },
   "outputs": [],
   "source": [
    "pd.DataFrame (wd, columns=['Color','AuthMode']).value_counts()"
   ]
  },
  {
   "cell_type": "code",
   "execution_count": null,
   "metadata": {},
   "outputs": [],
   "source": [
    "LOOKING_FOR = 'SSID'\n",
    "lat = wd[\"CurrentLatitude\"][0]\n",
    "lon = wd[\"CurrentLongitude\"][0]\n",
    "basic_map = folium.Map(location=[lat, lon],zoom_start=17) # manually pick scope of map\n",
    "\n",
    "# add markers for every point in dataset \n",
    "for i in range(len(wd)): \n",
    "\n",
    "    if wd.loc[wd[LOOKING_FOR] == wd[LOOKING_FOR][i],\"RSSI\"].max() == wd[\"RSSI\"][i]: # only plot AP with highest signal strength\n",
    "        lat = wd[\"CurrentLatitude\"][i]\n",
    "        lon = wd[\"CurrentLongitude\"][i]\n",
    "        folium.Marker( location=[lat, lon], tooltip=f'{LOOKING_FOR} {wd[LOOKING_FOR][i]}, strength {wd[\"RSSI\"][i]}', icon=folium.Icon(icon=\"wifi\", color=wd[\"Color\"][i], prefix='fa') ).add_to(basic_map) # annotate GPS location w/ SSID\n",
    "print(f\"total APs: {len(wd['MAC'].unique())}\")    \n",
    "display(basic_map)"
   ]
  },
  {
   "cell_type": "markdown",
   "metadata": {},
   "source": [
    "### again, filter by those using WEP"
   ]
  },
  {
   "cell_type": "code",
   "execution_count": null,
   "metadata": {},
   "outputs": [],
   "source": [
    "importdataset()"
   ]
  },
  {
   "cell_type": "code",
   "execution_count": null,
   "metadata": {},
   "outputs": [],
   "source": [
    "wd = pd.DataFrame( wd.loc[lambda x: (wd['AuthMode'].str.contains('WEP')==True), :])\n",
    "wd = wd.reset_index(drop=True)"
   ]
  },
  {
   "cell_type": "code",
   "execution_count": null,
   "metadata": {},
   "outputs": [],
   "source": [
    "wd['AuthMode'].value_counts()"
   ]
  },
  {
   "cell_type": "code",
   "execution_count": null,
   "metadata": {},
   "outputs": [],
   "source": [
    "wd"
   ]
  },
  {
   "cell_type": "markdown",
   "metadata": {},
   "source": [
    "### another filter"
   ]
  },
  {
   "cell_type": "code",
   "execution_count": null,
   "metadata": {},
   "outputs": [],
   "source": [
    "importdataset()"
   ]
  },
  {
   "cell_type": "code",
   "execution_count": null,
   "metadata": {},
   "outputs": [],
   "source": [
    "wd = pd.DataFrame( wd.loc[~(wd['AuthMode'].str.contains('\\[')==True)&~(wd['AuthMode'].str.contains('WCDMA')==True), :])\n",
    "wd = wd.reset_index(drop=True)"
   ]
  },
  {
   "cell_type": "code",
   "execution_count": null,
   "metadata": {},
   "outputs": [],
   "source": [
    "wd['AuthMode'].value_counts()"
   ]
  },
  {
   "cell_type": "code",
   "execution_count": null,
   "metadata": {},
   "outputs": [],
   "source": [
    "wd"
   ]
  },
  {
   "cell_type": "markdown",
   "metadata": {},
   "source": [
    "### another filter"
   ]
  },
  {
   "cell_type": "code",
   "execution_count": null,
   "metadata": {},
   "outputs": [],
   "source": [
    "importdataset()"
   ]
  },
  {
   "cell_type": "code",
   "execution_count": null,
   "metadata": {},
   "outputs": [],
   "source": [
    "wd.loc[(wd['Type'].str.contains('B')==True)]"
   ]
  },
  {
   "cell_type": "code",
   "execution_count": null,
   "metadata": {},
   "outputs": [],
   "source": [
    "wd.loc[(wd['Type'].str.contains('GSM')==True)]"
   ]
  },
  {
   "cell_type": "markdown",
   "metadata": {},
   "source": [
    "### plot GSM"
   ]
  },
  {
   "cell_type": "code",
   "execution_count": null,
   "metadata": {},
   "outputs": [],
   "source": [
    "importdataset()"
   ]
  },
  {
   "cell_type": "code",
   "execution_count": null,
   "metadata": {},
   "outputs": [],
   "source": [
    "wd = pd.DataFrame( wd.loc[(wd['Type'].str.contains('GSM')==True), :])\n",
    "wd = wd.reset_index(drop=True)"
   ]
  },
  {
   "cell_type": "code",
   "execution_count": null,
   "metadata": {},
   "outputs": [],
   "source": [
    "wd[\"Color\"] = None\n",
    "for index, row in wd.iterrows():\n",
    "    if wd['Color'][index] == None:\n",
    "        wd.loc[wd['MAC'] == wd['MAC'][index],\"Color\"] = random.choice(color_list)"
   ]
  },
  {
   "cell_type": "code",
   "execution_count": null,
   "metadata": {},
   "outputs": [],
   "source": [
    "wd"
   ]
  },
  {
   "cell_type": "code",
   "execution_count": null,
   "metadata": {},
   "outputs": [],
   "source": [
    "LOOKING_FOR = 'MAC'\n",
    "lat = wd[\"CurrentLatitude\"][0]\n",
    "lon = wd[\"CurrentLongitude\"][0]\n",
    "basic_map = folium.Map(location=[lat, lon],zoom_start=17) # manually pick scope of map\n",
    "\n",
    "# add markers for every point in dataset \n",
    "for i in range(len(wd)): \n",
    "    if wd.loc[wd[LOOKING_FOR] == wd[LOOKING_FOR][i],\"RSSI\"].max() == wd[\"RSSI\"][i]: # only plot AP with highest signal strength\n",
    "        lat = wd[\"CurrentLatitude\"][i]\n",
    "        lon = wd[\"CurrentLongitude\"][i]\n",
    "        folium.Marker( location=[lat, lon], tooltip=f'{LOOKING_FOR} {wd[LOOKING_FOR][i]}, strength {wd[\"RSSI\"][i]}', icon=folium.Icon(icon=\"wifi\", color=wd[\"Color\"][i], prefix='fa') ).add_to(basic_map) # annotate GPS location w/ SSID\n",
    "print(f\"total APs: {len(wd['MAC'].unique())}\")    \n",
    "display(basic_map)"
   ]
  },
  {
   "cell_type": "markdown",
   "metadata": {},
   "source": [
    "# find most popular vendors for WiFi devices nearby"
   ]
  },
  {
   "cell_type": "code",
   "execution_count": 181,
   "metadata": {},
   "outputs": [
    {
     "name": "stdout",
     "output_type": "stream",
     "text": [
      "total devices: 33772\n"
     ]
    }
   ],
   "source": [
    "importdataset()"
   ]
  },
  {
   "cell_type": "code",
   "execution_count": 182,
   "metadata": {},
   "outputs": [
    {
     "data": {
      "text/html": [
       "<div>\n",
       "<style scoped>\n",
       "    .dataframe tbody tr th:only-of-type {\n",
       "        vertical-align: middle;\n",
       "    }\n",
       "\n",
       "    .dataframe tbody tr th {\n",
       "        vertical-align: top;\n",
       "    }\n",
       "\n",
       "    .dataframe thead th {\n",
       "        text-align: right;\n",
       "    }\n",
       "</style>\n",
       "<table border=\"1\" class=\"dataframe\">\n",
       "  <thead>\n",
       "    <tr style=\"text-align: right;\">\n",
       "      <th></th>\n",
       "      <th>MAC</th>\n",
       "      <th>Vendor</th>\n",
       "    </tr>\n",
       "  </thead>\n",
       "  <tbody>\n",
       "    <tr>\n",
       "      <th>0</th>\n",
       "      <td>e0:43:db</td>\n",
       "      <td>Shenzhen ViewAt Technology Co.,Ltd.</td>\n",
       "    </tr>\n",
       "    <tr>\n",
       "      <th>1</th>\n",
       "      <td>24:05:f5</td>\n",
       "      <td>Integrated Device Technology (Malaysia) Sdn. Bhd.</td>\n",
       "    </tr>\n",
       "    <tr>\n",
       "      <th>2</th>\n",
       "      <td>2c:30:33</td>\n",
       "      <td>NETGEAR</td>\n",
       "    </tr>\n",
       "    <tr>\n",
       "      <th>3</th>\n",
       "      <td>3c:d9:2b</td>\n",
       "      <td>Hewlett Packard</td>\n",
       "    </tr>\n",
       "    <tr>\n",
       "      <th>4</th>\n",
       "      <td>9c:8e:99</td>\n",
       "      <td>Hewlett Packard</td>\n",
       "    </tr>\n",
       "    <tr>\n",
       "      <th>...</th>\n",
       "      <td>...</td>\n",
       "      <td>...</td>\n",
       "    </tr>\n",
       "    <tr>\n",
       "      <th>23038</th>\n",
       "      <td>3c:7a:8a</td>\n",
       "      <td>ARRIS Group, Inc.</td>\n",
       "    </tr>\n",
       "    <tr>\n",
       "      <th>23039</th>\n",
       "      <td>ac:ec:80</td>\n",
       "      <td>ARRIS Group, Inc.</td>\n",
       "    </tr>\n",
       "    <tr>\n",
       "      <th>23040</th>\n",
       "      <td>2c:a1:7d</td>\n",
       "      <td>ARRIS Group, Inc.</td>\n",
       "    </tr>\n",
       "    <tr>\n",
       "      <th>23041</th>\n",
       "      <td>04:71:4b</td>\n",
       "      <td>IEEE Registration Authority</td>\n",
       "    </tr>\n",
       "    <tr>\n",
       "      <th>23042</th>\n",
       "      <td>30:9c:23</td>\n",
       "      <td>Micro-Star INTL CO., LTD.</td>\n",
       "    </tr>\n",
       "  </tbody>\n",
       "</table>\n",
       "<p>23043 rows × 2 columns</p>\n",
       "</div>"
      ],
      "text/plain": [
       "            MAC                                             Vendor\n",
       "0      e0:43:db               Shenzhen ViewAt Technology Co.,Ltd. \n",
       "1      24:05:f5  Integrated Device Technology (Malaysia) Sdn. Bhd.\n",
       "2      2c:30:33                                            NETGEAR\n",
       "3      3c:d9:2b                                    Hewlett Packard\n",
       "4      9c:8e:99                                    Hewlett Packard\n",
       "...         ...                                                ...\n",
       "23038  3c:7a:8a                                  ARRIS Group, Inc.\n",
       "23039  ac:ec:80                                  ARRIS Group, Inc.\n",
       "23040  2c:a1:7d                                  ARRIS Group, Inc.\n",
       "23041  04:71:4b                        IEEE Registration Authority\n",
       "23042  30:9c:23                          Micro-Star INTL CO., LTD.\n",
       "\n",
       "[23043 rows x 2 columns]"
      ]
     },
     "execution_count": 182,
     "metadata": {},
     "output_type": "execute_result"
    }
   ],
   "source": [
    "# https://github.com/AlexLynd/ESP8266-Wardriving/blob/master/mac-vendors.txt\n",
    "mac_vendors = pd.read_csv ('mac-vendors.csv', names=(\"MAC\", \"Vendor\"),dtype=object) \n",
    "mac_vendors[\"MAC\"]= mac_vendors[\"MAC\"].str.lower()\n",
    "mac_vendors"
   ]
  },
  {
   "cell_type": "code",
   "execution_count": null,
   "metadata": {},
   "outputs": [],
   "source": [
    "mac_vendors.loc[(mac_vendors['Vendor'].str.contains('TP-LINK'))].sort_values(by='MAC',ascending=True)#.values[0,0]"
   ]
  },
  {
   "cell_type": "code",
   "execution_count": null,
   "metadata": {},
   "outputs": [],
   "source": [
    "mac_vendors['Vendor'].describe()"
   ]
  },
  {
   "cell_type": "code",
   "execution_count": 183,
   "metadata": {},
   "outputs": [
    {
     "data": {
      "text/plain": [
       "13718"
      ]
     },
     "execution_count": 183,
     "metadata": {},
     "output_type": "execute_result"
    }
   ],
   "source": [
    "#drop everything except those having valid MACs\n",
    "wd = wd.loc[(wd['MAC'].str.len() == 17)]\n",
    "\n",
    "wd = wd.drop_duplicates(subset = [\"MAC\"])\n",
    "wd = wd.reset_index(drop=True)\n",
    "len(wd)"
   ]
  },
  {
   "cell_type": "code",
   "execution_count": 204,
   "metadata": {},
   "outputs": [
    {
     "data": {
      "text/plain": [
       "'20:76:93'"
      ]
     },
     "execution_count": 204,
     "metadata": {},
     "output_type": "execute_result"
    }
   ],
   "source": [
    "wd.loc[0]['MAC'][:8]"
   ]
  },
  {
   "cell_type": "code",
   "execution_count": 219,
   "metadata": {},
   "outputs": [
    {
     "name": "stderr",
     "output_type": "stream",
     "text": [
      "100%|███████████████████████████████████████████████████████████████████████████████████████████████████████████████████████| 13718/13718 [00:37<00:00, 363.41it/s]"
     ]
    },
    {
     "name": "stdout",
     "output_type": "stream",
     "text": [
      "it took  37.75 sec. to run the code\n",
      "total rows: 13718, iterations: 414, cells filled: 3767, unique vendors: 163\n"
     ]
    },
    {
     "name": "stderr",
     "output_type": "stream",
     "text": [
      "\n"
     ]
    }
   ],
   "source": [
    "wd['Vendor'] = None\n",
    "iterations=0\n",
    "start_time = time.time()\n",
    "with tqdm(total=len(wd)) as bar:\n",
    "    for index, row in wd.iterrows():\n",
    "        bar.update(1)\n",
    "        if wd.loc[index, 'Vendor'] == None:\n",
    "            try:\n",
    "                wd.loc[wd['MAC'].str.startswith(row['MAC'][:8]), 'Vendor'] = mac_vendors.loc[mac_vendors['MAC'] == row['MAC'][:8],\"Vendor\"].values[0]\n",
    "                iterations+=1\n",
    "            except:\n",
    "                pass\n",
    "print(f\"it took  {time.time()-start_time:.2f} sec. to run the code\")           \n",
    "print(f\"total rows: {len(wd)}, iterations: {iterations}, cells filled: {wd['Vendor'].count()}, unique vendors: {len(wd['Vendor'].unique())}\")\n"
   ]
  },
  {
   "cell_type": "code",
   "execution_count": 220,
   "metadata": {},
   "outputs": [
    {
     "data": {
      "text/plain": [
       "9951"
      ]
     },
     "execution_count": 220,
     "metadata": {},
     "output_type": "execute_result"
    }
   ],
   "source": [
    "wd['Vendor'].isna().sum()"
   ]
  },
  {
   "cell_type": "code",
   "execution_count": 221,
   "metadata": {
    "scrolled": true
   },
   "outputs": [
    {
     "data": {
      "text/plain": [
       "count                              3767\n",
       "unique                              162\n",
       "top       TP-LINK TECHNOLOGIES CO.,LTD.\n",
       "freq                               1018\n",
       "Name: Vendor, dtype: object"
      ]
     },
     "execution_count": 221,
     "metadata": {},
     "output_type": "execute_result"
    }
   ],
   "source": [
    "wd['Vendor'].describe()"
   ]
  },
  {
   "cell_type": "code",
   "execution_count": 222,
   "metadata": {},
   "outputs": [
    {
     "data": {
      "text/plain": [
       "TP-LINK TECHNOLOGIES CO.,LTD.                           1018\n",
       "Tenda Technology Co.,Ltd.Dongguan branch                 246\n",
       "HUAWEI TECHNOLOGIES CO.,LTD                              226\n",
       "Qihoo  360  Technology Co.,Ltd                           222\n",
       "Shenzhen Sundray Technologies Company Limited            165\n",
       "Tenda Technology Co., Ltd.                               158\n",
       "Phicomm (Shanghai) Co., Ltd.                             135\n",
       "Shenzhen Bilian electronic CO.,LTD                       104\n",
       "SHENZHEN MERCURY COMMUNICATION TECHNOLOGIES CO.,LTD.      83\n",
       "Hangzhou H3C Technologies Co., Limited                    69\n",
       "AMPAK Technology, Inc.                                    67\n",
       "XIAOMI Electronics,CO.,LTD                                60\n",
       "Shanghai Feixun Communication Co.,Ltd.                    57\n",
       "SHANGHAI PHICOMM COMMUNICATION CO.,LTD                    55\n",
       "SHENZHEN FAST TECHNOLOGIES CO.,LTD                        54\n",
       "Midea Group Co., Ltd.                                     43\n",
       "Asiarock Technology Limited                               43\n",
       "Xiaomi Communications Co Ltd                              41\n",
       "MITSUMI ELECTRIC CO.,LTD.                                 40\n",
       "ShenZhen MovingComm Technology Co., Limited               39\n",
       "D-Link International                                      39\n",
       "Chicony Electronics Co., Ltd.                             34\n",
       "iKuai Networks                                            30\n",
       "SHENZHEN BILIAN ELECTRONIC CO.，LTD                        28\n",
       "FORTUNE TECHGROUP CO.,LTD                                 24\n",
       "Shenzhen Yunlink Technology Co., Ltd                      24\n",
       "Wistron Neweb Corporation                                 23\n",
       "UTT Technologies Co., Ltd.                                22\n",
       "IEEE Registration Authority                               21\n",
       "fenglian Technology Co.,Ltd.                              20\n",
       "Name: Vendor, dtype: int64"
      ]
     },
     "execution_count": 222,
     "metadata": {},
     "output_type": "execute_result"
    }
   ],
   "source": [
    "wd[\"Vendor\"].value_counts().head(30)"
   ]
  },
  {
   "cell_type": "code",
   "execution_count": 223,
   "metadata": {},
   "outputs": [
    {
     "data": {
      "text/html": [
       "<div>\n",
       "<style scoped>\n",
       "    .dataframe tbody tr th:only-of-type {\n",
       "        vertical-align: middle;\n",
       "    }\n",
       "\n",
       "    .dataframe tbody tr th {\n",
       "        vertical-align: top;\n",
       "    }\n",
       "\n",
       "    .dataframe thead th {\n",
       "        text-align: right;\n",
       "    }\n",
       "</style>\n",
       "<table border=\"1\" class=\"dataframe\">\n",
       "  <thead>\n",
       "    <tr style=\"text-align: right;\">\n",
       "      <th></th>\n",
       "      <th>Vendor_sorted</th>\n",
       "      <th>counts</th>\n",
       "    </tr>\n",
       "  </thead>\n",
       "  <tbody>\n",
       "    <tr>\n",
       "      <th>0</th>\n",
       "      <td>TP-LINK TECHNOLOGIES CO.,LTD.</td>\n",
       "      <td>1018</td>\n",
       "    </tr>\n",
       "    <tr>\n",
       "      <th>1</th>\n",
       "      <td>Tenda Technology Co.,Ltd.Dongguan branch</td>\n",
       "      <td>246</td>\n",
       "    </tr>\n",
       "    <tr>\n",
       "      <th>2</th>\n",
       "      <td>HUAWEI TECHNOLOGIES CO.,LTD</td>\n",
       "      <td>226</td>\n",
       "    </tr>\n",
       "    <tr>\n",
       "      <th>3</th>\n",
       "      <td>Qihoo  360  Technology Co.,Ltd</td>\n",
       "      <td>222</td>\n",
       "    </tr>\n",
       "    <tr>\n",
       "      <th>4</th>\n",
       "      <td>Shenzhen Sundray Technologies Company Limited</td>\n",
       "      <td>165</td>\n",
       "    </tr>\n",
       "    <tr>\n",
       "      <th>...</th>\n",
       "      <td>...</td>\n",
       "      <td>...</td>\n",
       "    </tr>\n",
       "    <tr>\n",
       "      <th>157</th>\n",
       "      <td>Shenzhen Four Seas Global Link Network Technol...</td>\n",
       "      <td>1</td>\n",
       "    </tr>\n",
       "    <tr>\n",
       "      <th>158</th>\n",
       "      <td>Shenzhen Kezhonglong Optoelectronic Technology...</td>\n",
       "      <td>1</td>\n",
       "    </tr>\n",
       "    <tr>\n",
       "      <th>159</th>\n",
       "      <td>Dalian Hi-Think Computer Technology, Corp</td>\n",
       "      <td>1</td>\n",
       "    </tr>\n",
       "    <tr>\n",
       "      <th>160</th>\n",
       "      <td>Shenzhen Tencent Computer System Co., Ltd.</td>\n",
       "      <td>1</td>\n",
       "    </tr>\n",
       "    <tr>\n",
       "      <th>161</th>\n",
       "      <td>Neotune Information Technology Corporation,.LTD</td>\n",
       "      <td>1</td>\n",
       "    </tr>\n",
       "  </tbody>\n",
       "</table>\n",
       "<p>162 rows × 2 columns</p>\n",
       "</div>"
      ],
      "text/plain": [
       "                                         Vendor_sorted  counts\n",
       "0                        TP-LINK TECHNOLOGIES CO.,LTD.    1018\n",
       "1             Tenda Technology Co.,Ltd.Dongguan branch     246\n",
       "2                          HUAWEI TECHNOLOGIES CO.,LTD     226\n",
       "3                       Qihoo  360  Technology Co.,Ltd     222\n",
       "4        Shenzhen Sundray Technologies Company Limited     165\n",
       "..                                                 ...     ...\n",
       "157  Shenzhen Four Seas Global Link Network Technol...       1\n",
       "158  Shenzhen Kezhonglong Optoelectronic Technology...       1\n",
       "159          Dalian Hi-Think Computer Technology, Corp       1\n",
       "160         Shenzhen Tencent Computer System Co., Ltd.       1\n",
       "161    Neotune Information Technology Corporation,.LTD       1\n",
       "\n",
       "[162 rows x 2 columns]"
      ]
     },
     "execution_count": 223,
     "metadata": {},
     "output_type": "execute_result"
    }
   ],
   "source": [
    "# make a sorted list of top vendors\n",
    "wd_sorted_list = pd.DataFrame (wd, columns=['Vendor']).value_counts().rename_axis('Vendor_sorted').reset_index(name='counts')\n",
    "wd_sorted_list"
   ]
  },
  {
   "cell_type": "code",
   "execution_count": 225,
   "metadata": {},
   "outputs": [
    {
     "data": {
      "image/png": "[encoded data removed]",
      "text/plain": [
       "<Figure size 432x288 with 1 Axes>"
      ]
     },
     "metadata": {},
     "output_type": "display_data"
    }
   ],
   "source": [
    "# Pie chart, where the slices will be ordered and plotted counter-clockwise:\n",
    "labels = wd_sorted_list['Vendor_sorted']\n",
    "sizes = wd_sorted_list['counts']\n",
    "\n",
    "fig1, ax1 = plt.subplots()\n",
    "ax1.pie(sizes,  labels=labels, autopct='%1.1f%%',\n",
    "        shadow=True, startangle=90)\n",
    "ax1.axis('equal')  # Equal aspect ratio ensures that pie is drawn as a circle.\n",
    "plt.show()"
   ]
  },
  {
   "cell_type": "code",
   "execution_count": null,
   "metadata": {},
   "outputs": [],
   "source": []
  },
  {
   "cell_type": "code",
   "execution_count": null,
   "metadata": {},
   "outputs": [],
   "source": []
  },
  {
   "cell_type": "code",
   "execution_count": null,
   "metadata": {},
   "outputs": [],
   "source": []
  },
  {
   "cell_type": "code",
   "execution_count": null,
   "metadata": {},
   "outputs": [],
   "source": []
  }
 ],
 "metadata": {
  "colab": {
   "authorship_tag": "ABX9TyM1sYMD4/MtngweadK5jn/+",
   "include_colab_link": true,
   "name": "Basic Wardriving Plot.ipynb",
   "provenance": []
  },
  "kernelspec": {
   "display_name": "Python 3 (ipykernel)",
   "language": "python",
   "name": "python3"
  },
  "language_info": {
   "codemirror_mode": {
    "name": "ipython",
    "version": 3
   },
   "file_extension": ".py",
   "mimetype": "text/x-python",
   "name": "python",
   "nbconvert_exporter": "python",
   "pygments_lexer": "ipython3",
   "version": "3.8.10"
  }
 },
 "nbformat": 4,
 "nbformat_minor": 1
}
