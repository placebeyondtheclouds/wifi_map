{
 "cells": [
  {
   "cell_type": "markdown",
   "metadata": {
    "id": "HrwWKt06VPum"
   },
   "source": [
    "the dataset consists of the data gathered by walking around the block with WiGLE"
   ]
  },
  {
   "cell_type": "markdown",
   "metadata": {},
   "source": [
    "the task\n",
    "- filter data by different criteria, plot on the map\n",
    "- explore device vendor distribution"
   ]
  },
  {
   "cell_type": "code",
   "execution_count": null,
   "metadata": {},
   "outputs": [],
   "source": [
    "import numpy as np\n",
    "import pandas as pd\n",
    "import time\n",
    "import folium\n",
    "from folium import Map, Marker\n",
    "import random\n",
    "import seaborn as sns\n",
    "import matplotlib.pyplot as plt\n",
    "color_list = ['black', 'darkblue', 'cadetblue', 'pink', 'darkred', 'white', 'orange', 'purple', 'lightblue', 'darkpurple', 'gray', 'red', 'lightgray', 'lightred', 'green', 'darkgreen', 'beige', 'lightgreen', 'blue']\n",
    "from tqdm import tqdm\n",
    "import time\n",
    "plt.rcParams['font.sans-serif'] = ['STSong'] #Set the font to correctly show labels in Chinese\n",
    "plt.rcParams['axes.unicode_minus'] = False\n",
    "import datetime"
   ]
  },
  {
   "cell_type": "code",
   "execution_count": null,
   "metadata": {
    "scrolled": true
   },
   "outputs": [],
   "source": [
    "def importdataset():\n",
    "    wd = pd.read_csv ('WigleWifi_20210908205108.csv', parse_dates=[\"FirstSeen\"], skiprows=1) \n",
    "    wd[\"Channel\"] = wd[\"Channel\"].astype('int16') #from -32,768 to 32,767\n",
    "    wd[\"RSSI\"] = wd[\"RSSI\"].astype('int8') #from -128 to 127\n",
    "    print(f\"total {len(wd)} devices\") # number of detected devices\n",
    "    return wd"
   ]
  },
  {
   "cell_type": "markdown",
   "metadata": {},
   "source": [
    "# explore and clean the data"
   ]
  },
  {
   "cell_type": "code",
   "execution_count": null,
   "metadata": {
    "scrolled": true
   },
   "outputs": [],
   "source": [
    "#reload the data\n",
    "wd = importdataset()\n",
    "wd.sample(5)"
   ]
  },
  {
   "cell_type": "code",
   "execution_count": null,
   "metadata": {},
   "outputs": [],
   "source": [
    "wd[\"MAC\"].value_counts()"
   ]
  },
  {
   "cell_type": "code",
   "execution_count": null,
   "metadata": {},
   "outputs": [],
   "source": [
    "#take a look how many unique valid MACs are there and how many entries in total\n",
    "wd.loc[(wd['MAC'].str.len() == 17)][\"MAC\"].describe()"
   ]
  },
  {
   "cell_type": "code",
   "execution_count": null,
   "metadata": {},
   "outputs": [],
   "source": [
    "print(f\"number of unique APs: {len(wd['MAC'].unique())}\")"
   ]
  },
  {
   "cell_type": "code",
   "execution_count": null,
   "metadata": {},
   "outputs": [],
   "source": [
    "pd.DataFrame (wd['MAC'].unique())"
   ]
  },
  {
   "cell_type": "code",
   "execution_count": null,
   "metadata": {},
   "outputs": [],
   "source": [
    "pd.DataFrame (wd.loc[(wd['MAC'].str.len() == 17)][\"MAC\"])"
   ]
  },
  {
   "cell_type": "markdown",
   "metadata": {},
   "source": [
    "# plot all WCDMA towers"
   ]
  },
  {
   "cell_type": "code",
   "execution_count": null,
   "metadata": {
    "id": "aGkPGbSbQ7bV"
   },
   "outputs": [],
   "source": [
    "wd = importdataset()\n",
    "wd.sample(5)"
   ]
  },
  {
   "cell_type": "code",
   "execution_count": null,
   "metadata": {
    "id": "GyUF0R86R_jV"
   },
   "outputs": [],
   "source": [
    "# drop all else except WCDMA\n",
    "wd = pd.DataFrame( wd.loc[wd['Type'] == \"WCDMA\"] )\n",
    "wd = wd.reset_index(drop=True)\n",
    "wd.sample(5)"
   ]
  },
  {
   "cell_type": "code",
   "execution_count": null,
   "metadata": {},
   "outputs": [],
   "source": [
    "wd['MAC'].value_counts()"
   ]
  },
  {
   "cell_type": "code",
   "execution_count": null,
   "metadata": {},
   "outputs": [],
   "source": [
    "#color code different MACs\n",
    "wd[\"Color\"] = None\n",
    "for index, row in wd.iterrows():\n",
    "    if wd['Color'][index] == None:\n",
    "        wd.loc[wd['MAC'] == wd['MAC'][index],\"Color\"] = random.choice(color_list)"
   ]
  },
  {
   "cell_type": "code",
   "execution_count": null,
   "metadata": {
    "scrolled": true
   },
   "outputs": [],
   "source": [
    "pd.DataFrame (wd, columns=['Color','MAC']).value_counts()"
   ]
  },
  {
   "cell_type": "code",
   "execution_count": null,
   "metadata": {
    "colab": {
     "base_uri": "https://localhost:8080/",
     "height": 780
    },
    "id": "M_DlRrUdbaHX",
    "outputId": "311e156c-5fb1-40c1-ff23-970da053a97e"
   },
   "outputs": [],
   "source": [
    "# map code source：https://github.com/AlexLynd/ESP8266-Wardriving\n",
    "# manually set thestarting point for map display at the coordinates of the first detected device\n",
    "lat = wd[\"CurrentLatitude\"][0]\n",
    "lon = wd[\"CurrentLongitude\"][0]\n",
    "basic_map = folium.Map(location=[lat, lon],zoom_start=17) \n",
    "\n",
    "# add the route to the plot\n",
    "# folium.PolyLine(wd[['CurrentLatitude', 'CurrentLongitude']].values.tolist(),line_opacity = 0.5, weight = 4).add_to(basic_map) \n",
    "\n",
    "# add markers for every point in dataset \n",
    "for i in range(len(wd)): \n",
    "#     if wd[\"FirstSeen\"][i] > \"2021-8-21 18:43:25\" and wd[\"FirstSeen\"][i] < \"2021-8-21 18:46:58\": # add time filter\n",
    "#     if wd[\"RSSI\"][i] > 10:\n",
    "    if wd.loc[wd['MAC'] == wd['MAC'][i],\"RSSI\"].max() == wd[\"RSSI\"][i]:# only plot with highest signal strength\n",
    "        lat = wd[\"CurrentLatitude\"][i]\n",
    "        lon = wd[\"CurrentLongitude\"][i] \n",
    "        folium.Marker( location=[lat, lon], tooltip=f'MAC {wd[\"MAC\"][i]}, strength {wd[\"RSSI\"][i]}', icon=folium.Icon(icon=\"wifi\", color=wd[\"Color\"][i], prefix='fa') ).add_to(basic_map) # annotate GPS location w/ SSID\n",
    "print(f\"total towers: {len(wd['MAC'].unique())}\")        \n",
    "display(basic_map)"
   ]
  },
  {
   "cell_type": "markdown",
   "metadata": {},
   "source": [
    "# "
   ]
  },
  {
   "cell_type": "markdown",
   "metadata": {},
   "source": [
    "# "
   ]
  },
  {
   "cell_type": "markdown",
   "metadata": {},
   "source": [
    "# "
   ]
  },
  {
   "cell_type": "markdown",
   "metadata": {},
   "source": [
    "# plot all WIFI APs with highest signal strength"
   ]
  },
  {
   "cell_type": "code",
   "execution_count": null,
   "metadata": {},
   "outputs": [],
   "source": [
    "wd = importdataset()\n",
    "wd.sample(5)"
   ]
  },
  {
   "cell_type": "code",
   "execution_count": null,
   "metadata": {},
   "outputs": [],
   "source": [
    "#drop everything except those having valid MACs\n",
    "wd = wd.loc[(wd['MAC'].str.len() == 17)]\n",
    "wd = wd.reset_index(drop=True)\n",
    "wd.sample(5)"
   ]
  },
  {
   "cell_type": "code",
   "execution_count": null,
   "metadata": {},
   "outputs": [],
   "source": [
    "wd.info()"
   ]
  },
  {
   "cell_type": "code",
   "execution_count": null,
   "metadata": {},
   "outputs": [],
   "source": [
    "print(f\"total APs: {len(wd['MAC'].unique())}\") "
   ]
  },
  {
   "cell_type": "code",
   "execution_count": null,
   "metadata": {},
   "outputs": [],
   "source": [
    "# map code source：https://github.com/AlexLynd/ESP8266-Wardriving\n",
    "LOOKING_FOR = 'SSID'\n",
    "lat = wd[\"CurrentLatitude\"][0]\n",
    "lon = wd[\"CurrentLongitude\"][0]\n",
    "basic_map = folium.Map(location=[lat, lon],zoom_start=17)\n",
    "\n",
    "# add markers for every point in dataset \n",
    "for i in range(len(wd)): \n",
    "    if wd.loc[wd[LOOKING_FOR] == wd[LOOKING_FOR][i],\"RSSI\"].max() == wd[\"RSSI\"][i]: # only plot AP with highest signal strength\n",
    "        lat = wd[\"CurrentLatitude\"][i]\n",
    "        lon = wd[\"CurrentLongitude\"][i]\n",
    "        folium.Marker( location=[lat, lon], tooltip=f'{LOOKING_FOR} {wd[LOOKING_FOR][i]}, strength {wd[\"RSSI\"][i]}', icon=folium.Icon(icon=\"wifi\", color=\"blue\", prefix='fa') ).add_to(basic_map) # annotate GPS location w/ SSID\n",
    "print(f\"total APs: {len(wd['MAC'].unique())}\")    \n",
    "display(basic_map)"
   ]
  },
  {
   "cell_type": "markdown",
   "metadata": {},
   "source": [
    "# "
   ]
  },
  {
   "cell_type": "markdown",
   "metadata": {},
   "source": [
    "# "
   ]
  },
  {
   "cell_type": "markdown",
   "metadata": {},
   "source": [
    "# "
   ]
  },
  {
   "cell_type": "markdown",
   "metadata": {},
   "source": [
    "# "
   ]
  },
  {
   "cell_type": "markdown",
   "metadata": {},
   "source": [
    "# plot all WPS-enabled wifi with highest signal strength"
   ]
  },
  {
   "cell_type": "code",
   "execution_count": null,
   "metadata": {
    "scrolled": true
   },
   "outputs": [],
   "source": [
    "wd = importdataset()\n",
    "wd.sample(5)"
   ]
  },
  {
   "cell_type": "code",
   "execution_count": null,
   "metadata": {
    "scrolled": false
   },
   "outputs": [],
   "source": [
    "wd['AuthMode'].value_counts()"
   ]
  },
  {
   "cell_type": "code",
   "execution_count": null,
   "metadata": {},
   "outputs": [],
   "source": [
    "# make a sorted list of authmodes used\n",
    "wd_sorted_list = pd.DataFrame (wd, columns=['AuthMode']).value_counts().rename_axis('Auth_sorted').reset_index(name='counts')\n",
    "wd_sorted_list"
   ]
  },
  {
   "cell_type": "code",
   "execution_count": null,
   "metadata": {},
   "outputs": [],
   "source": [
    "# Pie chart, where the slices will be ordered and plotted counter-clockwise:\n",
    "labels = wd_sorted_list['Auth_sorted']\n",
    "sizes = wd_sorted_list['counts']\n",
    "\n",
    "fig1, ax1 = plt.subplots()\n",
    "ax1.pie(sizes,  labels=labels, autopct='%1.1f%%',\n",
    "        shadow=False, startangle=90)\n",
    "ax1.axis('equal')  # Equal aspect ratio ensures that pie is drawn as a circle.\n",
    "plt.show()"
   ]
  },
  {
   "cell_type": "code",
   "execution_count": null,
   "metadata": {},
   "outputs": [],
   "source": [
    "ap_use_wps=len(pd.DataFrame( wd.loc[(wd['AuthMode'].str.contains('WPS')==True)]))\n",
    "ap_other=len(wd)-ap_use_wps\n",
    "# Pie chart, where the slices will be ordered and plotted counter-clockwise:\n",
    "labels = \"other APs\", \"APs that use WPS\"\n",
    "sizes = [ap_other, ap_use_wps]\n",
    "\n",
    "fig1, ax1 = plt.subplots()\n",
    "ax1.pie(sizes,  labels=labels, autopct='%1.1f%%',\n",
    "        shadow=False, startangle=90)\n",
    "ax1.axis('equal')  # Equal aspect ratio ensures that pie is drawn as a circle.\n",
    "plt.show()"
   ]
  },
  {
   "cell_type": "code",
   "execution_count": null,
   "metadata": {},
   "outputs": [],
   "source": [
    "# drop all except those that use WPS\n",
    "wd = pd.DataFrame( wd.loc[lambda x: (wd['AuthMode'].str.contains('WPS')==True), :])\n",
    "wd = wd.reset_index(drop=True)\n",
    "wd.sample(5)"
   ]
  },
  {
   "cell_type": "code",
   "execution_count": null,
   "metadata": {},
   "outputs": [],
   "source": [
    "wd.info()"
   ]
  },
  {
   "cell_type": "code",
   "execution_count": null,
   "metadata": {},
   "outputs": [],
   "source": [
    "wd['AuthMode'].value_counts()"
   ]
  },
  {
   "cell_type": "code",
   "execution_count": null,
   "metadata": {},
   "outputs": [],
   "source": [
    "# make a sorted list of authmodes used\n",
    "wd_sorted_list = pd.DataFrame (wd, columns=['AuthMode']).value_counts().rename_axis('Auth_sorted').reset_index(name='counts')\n",
    "wd_sorted_list"
   ]
  },
  {
   "cell_type": "code",
   "execution_count": null,
   "metadata": {},
   "outputs": [],
   "source": [
    "# Pie chart, where the slices will be ordered and plotted counter-clockwise:\n",
    "labels = wd_sorted_list['Auth_sorted']\n",
    "sizes = wd_sorted_list['counts']\n",
    "\n",
    "fig1, ax1 = plt.subplots()\n",
    "ax1.pie(sizes,  labels=labels, autopct='%1.1f%%',\n",
    "        shadow=False, startangle=90)\n",
    "ax1.axis('equal')  # Equal aspect ratio ensures that pie is drawn as a circle.\n",
    "plt.show()"
   ]
  },
  {
   "cell_type": "code",
   "execution_count": null,
   "metadata": {},
   "outputs": [],
   "source": [
    "#color code authmodes\n",
    "wd[\"Color\"] = None\n",
    "for index, row in wd.iterrows():\n",
    "    if wd['Color'][index] == None:\n",
    "        wd.loc[wd['AuthMode'] == wd['AuthMode'][index],\"Color\"] = random.choice(color_list)"
   ]
  },
  {
   "cell_type": "code",
   "execution_count": null,
   "metadata": {
    "scrolled": true
   },
   "outputs": [],
   "source": [
    "pd.DataFrame (wd, columns=['Color','AuthMode']).value_counts()"
   ]
  },
  {
   "cell_type": "code",
   "execution_count": null,
   "metadata": {},
   "outputs": [],
   "source": [
    "# map code source：https://github.com/AlexLynd/ESP8266-Wardriving\n",
    "LOOKING_FOR = 'SSID'\n",
    "lat = wd[\"CurrentLatitude\"][0]\n",
    "lon = wd[\"CurrentLongitude\"][0]\n",
    "basic_map = folium.Map(location=[lat, lon],zoom_start=17)\n",
    "\n",
    "# add markers for every point in dataset \n",
    "for i in range(len(wd)): \n",
    "\n",
    "    if wd.loc[wd[LOOKING_FOR] == wd[LOOKING_FOR][i],\"RSSI\"].max() == wd[\"RSSI\"][i]: # only plot AP with highest signal strength\n",
    "        lat = wd[\"CurrentLatitude\"][i]\n",
    "        lon = wd[\"CurrentLongitude\"][i]\n",
    "        folium.Marker( location=[lat, lon], tooltip=f'{LOOKING_FOR} {wd[LOOKING_FOR][i]}, strength {wd[\"RSSI\"][i]}', icon=folium.Icon(icon=\"wifi\", color=wd[\"Color\"][i], prefix='fa') ).add_to(basic_map) # annotate GPS location w/ SSID\n",
    "print(f\"total APs: {len(wd['MAC'].unique())}\")    \n",
    "display(basic_map)"
   ]
  },
  {
   "cell_type": "markdown",
   "metadata": {},
   "source": [
    "### again, filter by those using WEP"
   ]
  },
  {
   "cell_type": "code",
   "execution_count": null,
   "metadata": {},
   "outputs": [],
   "source": [
    "wd = importdataset()"
   ]
  },
  {
   "cell_type": "code",
   "execution_count": null,
   "metadata": {},
   "outputs": [],
   "source": [
    "wd = pd.DataFrame( wd.loc[lambda x: (wd['AuthMode'].str.contains('WEP')==True), :])\n",
    "wd = wd.reset_index(drop=True)"
   ]
  },
  {
   "cell_type": "code",
   "execution_count": null,
   "metadata": {},
   "outputs": [],
   "source": [
    "wd['AuthMode'].value_counts()"
   ]
  },
  {
   "cell_type": "code",
   "execution_count": null,
   "metadata": {},
   "outputs": [],
   "source": [
    "wd"
   ]
  },
  {
   "cell_type": "markdown",
   "metadata": {},
   "source": [
    "### another filter"
   ]
  },
  {
   "cell_type": "code",
   "execution_count": null,
   "metadata": {},
   "outputs": [],
   "source": [
    "wd = importdataset()"
   ]
  },
  {
   "cell_type": "code",
   "execution_count": null,
   "metadata": {},
   "outputs": [],
   "source": [
    "wd = pd.DataFrame( wd.loc[~(wd['AuthMode'].str.contains('\\[')==True)&~(wd['AuthMode'].str.contains('WCDMA')==True), :])\n",
    "wd = wd.reset_index(drop=True)"
   ]
  },
  {
   "cell_type": "code",
   "execution_count": null,
   "metadata": {},
   "outputs": [],
   "source": [
    "wd['AuthMode'].value_counts()"
   ]
  },
  {
   "cell_type": "code",
   "execution_count": null,
   "metadata": {},
   "outputs": [],
   "source": [
    "wd"
   ]
  },
  {
   "cell_type": "markdown",
   "metadata": {},
   "source": [
    "### another filter"
   ]
  },
  {
   "cell_type": "code",
   "execution_count": null,
   "metadata": {},
   "outputs": [],
   "source": [
    "wd = importdataset()"
   ]
  },
  {
   "cell_type": "code",
   "execution_count": null,
   "metadata": {},
   "outputs": [],
   "source": [
    "wd.loc[(wd['Type'].str.contains('B')==True)]"
   ]
  },
  {
   "cell_type": "code",
   "execution_count": null,
   "metadata": {},
   "outputs": [],
   "source": [
    "wd.loc[(wd['Type'].str.contains('GSM')==True)]"
   ]
  },
  {
   "cell_type": "markdown",
   "metadata": {},
   "source": [
    "### plot GSM"
   ]
  },
  {
   "cell_type": "code",
   "execution_count": null,
   "metadata": {},
   "outputs": [],
   "source": [
    "wd = importdataset()"
   ]
  },
  {
   "cell_type": "code",
   "execution_count": null,
   "metadata": {},
   "outputs": [],
   "source": [
    "wd = pd.DataFrame( wd.loc[(wd['Type'].str.contains('GSM')==True), :])\n",
    "wd = wd.reset_index(drop=True)"
   ]
  },
  {
   "cell_type": "code",
   "execution_count": null,
   "metadata": {},
   "outputs": [],
   "source": [
    "wd[\"Color\"] = None\n",
    "for index, row in wd.iterrows():\n",
    "    if wd['Color'][index] == None:\n",
    "        wd.loc[wd['MAC'] == wd['MAC'][index],\"Color\"] = random.choice(color_list)"
   ]
  },
  {
   "cell_type": "code",
   "execution_count": null,
   "metadata": {},
   "outputs": [],
   "source": [
    "wd"
   ]
  },
  {
   "cell_type": "code",
   "execution_count": null,
   "metadata": {},
   "outputs": [],
   "source": [
    "# map code source：https://github.com/AlexLynd/ESP8266-Wardriving\n",
    "LOOKING_FOR = 'MAC'\n",
    "lat = wd[\"CurrentLatitude\"][0]\n",
    "lon = wd[\"CurrentLongitude\"][0]\n",
    "basic_map = folium.Map(location=[lat, lon],zoom_start=17)\n",
    "\n",
    "# add markers for every point in dataset \n",
    "for i in range(len(wd)): \n",
    "    if wd.loc[wd[LOOKING_FOR] == wd[LOOKING_FOR][i],\"RSSI\"].max() == wd[\"RSSI\"][i]: # only plot AP with highest signal strength\n",
    "        lat = wd[\"CurrentLatitude\"][i]\n",
    "        lon = wd[\"CurrentLongitude\"][i]\n",
    "        folium.Marker( location=[lat, lon], tooltip=f'{LOOKING_FOR} {wd[LOOKING_FOR][i]}, strength {wd[\"RSSI\"][i]}', icon=folium.Icon(icon=\"wifi\", color=wd[\"Color\"][i], prefix='fa') ).add_to(basic_map) # annotate GPS location w/ SSID\n",
    "print(f\"total APs: {len(wd['MAC'].unique())}\")    \n",
    "display(basic_map)"
   ]
  },
  {
   "cell_type": "markdown",
   "metadata": {},
   "source": [
    "# find most popular vendors for WiFi devices nearby"
   ]
  },
  {
   "cell_type": "code",
   "execution_count": null,
   "metadata": {},
   "outputs": [],
   "source": [
    "wd = importdataset()"
   ]
  },
  {
   "cell_type": "code",
   "execution_count": null,
   "metadata": {},
   "outputs": [],
   "source": [
    "# https://github.com/AlexLynd/ESP8266-Wardriving/blob/master/mac-vendors.txt\n",
    "mac_vendors = pd.read_csv ('mac-vendors.csv', names=(\"MAC\", \"Vendor\"),dtype=object) \n",
    "mac_vendors[\"MAC\"]= mac_vendors[\"MAC\"].str.lower()\n",
    "len(mac_vendors)"
   ]
  },
  {
   "cell_type": "code",
   "execution_count": null,
   "metadata": {
    "scrolled": false
   },
   "outputs": [],
   "source": [
    "#check how many MACs correspond to a given vendor\n",
    "# mac_vendors.loc[(mac_vendors['Vendor'].str.contains('TP-LINK'))].sort_values(by='MAC',ascending=True)#.values[0,0]"
   ]
  },
  {
   "cell_type": "code",
   "execution_count": null,
   "metadata": {},
   "outputs": [],
   "source": [
    "#drop everything except those having valid MACs\n",
    "wd = wd.loc[(wd['MAC'].str.len() == 17)]\n",
    "wd = wd.drop_duplicates(subset = [\"MAC\"])\n",
    "wd = wd.reset_index(drop=True)\n",
    "len(wd)"
   ]
  },
  {
   "cell_type": "code",
   "execution_count": null,
   "metadata": {},
   "outputs": [],
   "source": [
    "#cut the tail part of the MACs to prepare for merging with the MAC-Vendor regster\n",
    "wd['MAC'] = wd['MAC'].apply(lambda x: x[:8])"
   ]
  },
  {
   "cell_type": "code",
   "execution_count": null,
   "metadata": {},
   "outputs": [],
   "source": [
    "#OLD CODE\n",
    "# # find vendors corresponding to the mac addresses and fill 'Vendor' column\n",
    "# wd['Vendor'] = None\n",
    "# iterations=0\n",
    "# start_time = time.time()\n",
    "# with tqdm(total=len(wd)) as bar:\n",
    "#     for index, row in wd.iterrows():\n",
    "#         bar.update(1)\n",
    "#         if wd.loc[index, 'Vendor'] == None:\n",
    "#             try:\n",
    "#                 wd.loc[wd['MAC'].str.startswith(row['MAC'][:8]), 'Vendor'] = mac_vendors.loc[mac_vendors['MAC'] == row['MAC'][:8],\"Vendor\"].values[0]\n",
    "#                 iterations+=1\n",
    "#             except:\n",
    "#                 pass\n",
    "# print(f\"it took  {time.time()-start_time:.2f} sec. to run the code\")           \n",
    "# print(f\"total rows: {len(wd)}, iterations: {iterations}, cells filled: {wd['Vendor'].count()}, unique vendors: {len(wd['Vendor'].unique())}\")\n",
    "# wd.to_feather(\"with_vendors_added.feather\")"
   ]
  },
  {
   "cell_type": "code",
   "execution_count": null,
   "metadata": {},
   "outputs": [],
   "source": [
    "# find vendors corresponding to the mac addresses and fill 'Vendor' column\n",
    "wd = pd.merge(wd, mac_vendors, on='MAC', how='left')"
   ]
  },
  {
   "cell_type": "code",
   "execution_count": null,
   "metadata": {},
   "outputs": [],
   "source": [
    "#simplifying the plot by cutting off minor vendors (optional)\n",
    "CUTOFF = 50 #put vendors with less than CUTOFF number of devices into \"other\" category\n",
    "def cut_vendors(categories, cutoff):\n",
    "    categorical_map = {}\n",
    "    for i in range(len(categories)):\n",
    "        if categories.values[i] >= cutoff:\n",
    "            categorical_map[categories.index[i]] = categories.index[i]\n",
    "        else:\n",
    "            categorical_map[categories.index[i]] = 'Other'\n",
    "    return categorical_map\n",
    "\n",
    "vendor_map = cut_vendors(wd[\"Vendor\"].value_counts(), CUTOFF)\n",
    "wd[\"Vendor\"] = wd[\"Vendor\"].map(vendor_map)\n",
    "\n",
    "# wd[\"Vendor\"].value_counts()"
   ]
  },
  {
   "cell_type": "code",
   "execution_count": null,
   "metadata": {},
   "outputs": [],
   "source": [
    "# make a sorted list of top vendors\n",
    "#wd[\"MAC\"]= wd[\"MAC\"].str.lower()\n",
    "wd_sorted_list = pd.DataFrame (wd, columns=['Vendor']).value_counts().rename_axis('Vendor_sorted').reset_index(name='counts')\n",
    "\n",
    "#if there are vendors that were grouped into \"other\" category, rename the category\n",
    "wd_sorted_list['Vendor_sorted'] = wd_sorted_list['Vendor_sorted'].apply(lambda x: x.replace(\"Other\", \"Other vendors\"+\" (less than \"+str(CUTOFF)+\" devices of each vendor)\"))\n",
    "\n",
    "# wd_sorted_list"
   ]
  },
  {
   "cell_type": "code",
   "execution_count": null,
   "metadata": {},
   "outputs": [],
   "source": [
    "# Pie chart, where the slices will be ordered and plotted counter-clockwise:\n",
    "fig1, ax1 = plt.subplots()\n",
    "fig1.set_size_inches(7, 7)\n",
    "fig1.set_dpi(150)\n",
    "ax1.pie(x=wd_sorted_list['counts'],  labels=wd_sorted_list['Vendor_sorted'], autopct='%1.1f%%',\n",
    "        shadow=False, startangle=90)\n",
    "ax1.axis('equal')  # Equal aspect ratio ensures that pie is drawn as a circle.\n",
    "ax1.set_title('WiFi routers in the neighborhood, vendors distribution', pad=20)\n",
    "plt.show()\n",
    "#if there are glyph errors present, rerun the cell to rebuild the cache "
   ]
  },
  {
   "cell_type": "code",
   "execution_count": 148,
   "metadata": {},
   "outputs": [
    {
     "data": {
      "image/png": "[encoded data removed]",
      "text/plain": [
       "<Figure size 720x576 with 1 Axes>"
      ]
     },
     "metadata": {
      "needs_background": "light"
     },
     "output_type": "display_data"
    }
   ],
   "source": [
    "fig = plt.figure(figsize = (10,8))\n",
    "selective_coloring = ['grey' if (x < max(wd_sorted_list['counts'])) else 'black' for x in wd_sorted_list['counts'] ]\n",
    "ax = sns.barplot(y=wd_sorted_list['Vendor_sorted'], x=wd_sorted_list['counts'], orient=\"h\", palette = selective_coloring)\n",
    "ax.set_title(\"WiFi routers in the neighborhood, vendors distribution\",loc='right', fontsize=30)\n",
    "ax.set_xlabel('Count')\n",
    "ax.set_ylabel('Vendors')\n",
    "\n",
    "patch_h = [patch.get_height() for patch in ax.patches]   # patch_h contains the heights of all the patches now\n",
    "idx_tallest = np.argmax(patch_h)   # np.argmax return the index of largest value of the list\n",
    "ax.patches[idx_tallest+1].set_facecolor('blue')  \n",
    "ax.patches[idx_tallest+2].set_facecolor('lightblue') \n",
    "ax.patches[idx_tallest+3].set_facecolor('lightblue') \n",
    "ax.patches[idx_tallest+4].set_facecolor('lightblue') \n",
    "for item in ([ax.xaxis.label, ax.yaxis.label] +\n",
    "    ax.get_xticklabels() + ax.get_yticklabels()):\n",
    "    item.set_fontsize(20)   \n",
    "plt.show()\n",
    "plt.close()"
   ]
  },
  {
   "cell_type": "code",
   "execution_count": null,
   "metadata": {},
   "outputs": [],
   "source": []
  }
 ],
 "metadata": {
  "colab": {
   "authorship_tag": "ABX9TyM1sYMD4/MtngweadK5jn/+",
   "include_colab_link": true,
   "name": "Basic Wardriving Plot.ipynb",
   "provenance": []
  },
  "kernelspec": {
   "display_name": "Python 3 (ipykernel)",
   "language": "python",
   "name": "python3"
  },
  "language_info": {
   "codemirror_mode": {
    "name": "ipython",
    "version": 3
   },
   "file_extension": ".py",
   "mimetype": "text/x-python",
   "name": "python",
   "nbconvert_exporter": "python",
   "pygments_lexer": "ipython3",
   "version": "3.8.12"
  }
 },
 "nbformat": 4,
 "nbformat_minor": 1
}
