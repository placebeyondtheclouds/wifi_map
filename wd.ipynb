{
 "cells": [
  {
   "cell_type": "markdown",
   "metadata": {},
   "source": [
    "source：https://github.com/AlexLynd/ESP8266-Wardriving"
   ]
  },
  {
   "cell_type": "markdown",
   "metadata": {
    "id": "HrwWKt06VPum"
   },
   "source": [
    "the dataset: gathered the data by walking around with WiGLE, exported to csv"
   ]
  },
  {
   "cell_type": "markdown",
   "metadata": {},
   "source": [
    "the task: filter data by different criteria, plot on the map"
   ]
  },
  {
   "cell_type": "code",
   "execution_count": null,
   "metadata": {},
   "outputs": [],
   "source": [
    "import numpy as np\n",
    "import pandas as pd\n",
    "import folium\n",
    "from folium import Map, Marker\n",
    "import random\n",
    "import matplotlib.pyplot as plt\n",
    "color_list = ['black', 'darkblue', 'cadetblue', 'pink', 'darkred', 'white', 'orange', 'purple', 'lightblue', 'darkpurple', 'gray', 'red', 'lightgray', 'lightred', 'green', 'darkgreen', 'beige', 'lightgreen', 'blue']\n",
    "from tqdm import tqdm\n",
    "import time"
   ]
  },
  {
   "cell_type": "code",
   "execution_count": null,
   "metadata": {
    "scrolled": true
   },
   "outputs": [],
   "source": [
    "def importdataset():\n",
    "    global wd\n",
    "    wd = pd.read_csv ('WigleWifi_20210906181508.csv', skiprows=1) \n",
    "    print(f\"total devices: {len(wd)}\") # number of detected devices"
   ]
  },
  {
   "cell_type": "markdown",
   "metadata": {},
   "source": [
    "# explore and clean the data"
   ]
  },
  {
   "cell_type": "code",
   "execution_count": null,
   "metadata": {
    "scrolled": true
   },
   "outputs": [],
   "source": [
    "importdataset()\n",
    "wd.sample(5)"
   ]
  },
  {
   "cell_type": "code",
   "execution_count": null,
   "metadata": {},
   "outputs": [],
   "source": [
    "wd[\"MAC\"].value_counts()"
   ]
  },
  {
   "cell_type": "code",
   "execution_count": null,
   "metadata": {},
   "outputs": [],
   "source": [
    "#take a look how many unique valid MACs are there and how many entries in total\n",
    "wd.loc[(wd['MAC'].str.len() == 17)][\"MAC\"].describe()"
   ]
  },
  {
   "cell_type": "code",
   "execution_count": null,
   "metadata": {},
   "outputs": [],
   "source": [
    "print(f\"number of unique APs: {len(wd['MAC'].unique())}\")"
   ]
  },
  {
   "cell_type": "code",
   "execution_count": null,
   "metadata": {},
   "outputs": [],
   "source": [
    "pd.DataFrame (wd['MAC'].unique())"
   ]
  },
  {
   "cell_type": "code",
   "execution_count": null,
   "metadata": {},
   "outputs": [],
   "source": [
    "pd.DataFrame (wd.loc[(wd['MAC'].str.len() == 17)][\"MAC\"])"
   ]
  },
  {
   "cell_type": "markdown",
   "metadata": {},
   "source": [
    "# plot all WCDMA towers"
   ]
  },
  {
   "cell_type": "code",
   "execution_count": null,
   "metadata": {
    "id": "aGkPGbSbQ7bV"
   },
   "outputs": [],
   "source": [
    "importdataset()\n",
    "wd.sample(5)"
   ]
  },
  {
   "cell_type": "code",
   "execution_count": null,
   "metadata": {
    "id": "GyUF0R86R_jV"
   },
   "outputs": [],
   "source": [
    "# drop all else except WCDMA\n",
    "wd = pd.DataFrame( wd.loc[wd['Type'] == \"WCDMA\"] )\n",
    "wd = wd.reset_index(drop=True)\n",
    "wd.sample(5)"
   ]
  },
  {
   "cell_type": "code",
   "execution_count": null,
   "metadata": {},
   "outputs": [],
   "source": [
    "wd['MAC'].value_counts()"
   ]
  },
  {
   "cell_type": "code",
   "execution_count": null,
   "metadata": {},
   "outputs": [],
   "source": [
    "#color code different MACs\n",
    "wd[\"Color\"] = None\n",
    "for index, row in wd.iterrows():\n",
    "    if wd['Color'][index] == None:\n",
    "        wd.loc[wd['MAC'] == wd['MAC'][index],\"Color\"] = random.choice(color_list)"
   ]
  },
  {
   "cell_type": "code",
   "execution_count": null,
   "metadata": {
    "scrolled": true
   },
   "outputs": [],
   "source": [
    "pd.DataFrame (wd, columns=['Color','MAC']).value_counts()"
   ]
  },
  {
   "cell_type": "code",
   "execution_count": null,
   "metadata": {
    "colab": {
     "base_uri": "https://localhost:8080/",
     "height": 780
    },
    "id": "M_DlRrUdbaHX",
    "outputId": "311e156c-5fb1-40c1-ff23-970da053a97e"
   },
   "outputs": [],
   "source": [
    "lat = wd[\"CurrentLatitude\"][0]\n",
    "lon = wd[\"CurrentLongitude\"][0]\n",
    "basic_map = folium.Map(location=[lat, lon],zoom_start=17) # manually pick scope of map\n",
    "\n",
    "# folium.PolyLine(wd[['CurrentLatitude', 'CurrentLongitude']].values.tolist(),line_opacity = 0.5, weight = 4).add_to(basic_map) # plot route\n",
    "\n",
    "# add markers for every point in dataset \n",
    "for i in range(len(wd)): \n",
    "#     if wd[\"FirstSeen\"][i] > \"2021-8-21 18:43:25\" and wd[\"FirstSeen\"][i] < \"2021-8-21 18:46:58\": # add time filter\n",
    "#     if wd[\"RSSI\"][i] > 10:\n",
    "    if wd.loc[wd['MAC'] == wd['MAC'][i],\"RSSI\"].max() == wd[\"RSSI\"][i]:# only plot with highest signal strength\n",
    "        lat = wd[\"CurrentLatitude\"][i]\n",
    "        lon = wd[\"CurrentLongitude\"][i] \n",
    "        folium.Marker( location=[lat, lon], tooltip=f'MAC {wd[\"MAC\"][i]}, strength {wd[\"RSSI\"][i]}', icon=folium.Icon(icon=\"wifi\", color=wd[\"Color\"][i], prefix='fa') ).add_to(basic_map) # annotate GPS location w/ SSID\n",
    "print(f\"total towers: {len(wd['MAC'].unique())}\")        \n",
    "display(basic_map)"
   ]
  },
  {
   "cell_type": "markdown",
   "metadata": {},
   "source": [
    "# "
   ]
  },
  {
   "cell_type": "markdown",
   "metadata": {},
   "source": [
    "# "
   ]
  },
  {
   "cell_type": "markdown",
   "metadata": {},
   "source": [
    "# "
   ]
  },
  {
   "cell_type": "markdown",
   "metadata": {},
   "source": [
    "# plot all WIFI APs with highest signal strength"
   ]
  },
  {
   "cell_type": "code",
   "execution_count": null,
   "metadata": {},
   "outputs": [],
   "source": [
    "importdataset()\n",
    "wd.sample(5)"
   ]
  },
  {
   "cell_type": "code",
   "execution_count": null,
   "metadata": {},
   "outputs": [],
   "source": [
    "#drop everything except those having valid MACs\n",
    "wd = wd.loc[(wd['MAC'].str.len() == 17)]\n",
    "wd = wd.reset_index(drop=True)\n",
    "wd.sample(5)"
   ]
  },
  {
   "cell_type": "code",
   "execution_count": null,
   "metadata": {},
   "outputs": [],
   "source": [
    "wd.info()"
   ]
  },
  {
   "cell_type": "code",
   "execution_count": null,
   "metadata": {},
   "outputs": [],
   "source": [
    "print(f\"total APs: {len(wd['MAC'].unique())}\") "
   ]
  },
  {
   "cell_type": "code",
   "execution_count": null,
   "metadata": {},
   "outputs": [],
   "source": [
    "lat = wd[\"CurrentLatitude\"][0]\n",
    "lon = wd[\"CurrentLongitude\"][0]\n",
    "basic_map = folium.Map(location=[lat, lon],zoom_start=17) # manually pick scope of map\n",
    "\n",
    "# add markers for every point in dataset \n",
    "for i in range(len(wd)): \n",
    "    if wd.loc[wd['SSID'] == wd['SSID'][i],\"RSSI\"].max() == wd[\"RSSI\"][i]: # only plot AP with highest signal strength\n",
    "        lat = wd[\"CurrentLatitude\"][i]\n",
    "        lon = wd[\"CurrentLongitude\"][i]\n",
    "        folium.Marker( location=[lat, lon], tooltip=f'SSID {wd[\"SSID\"][i]}, strength {wd[\"RSSI\"][i]}', icon=folium.Icon(icon=\"wifi\", color=\"blue\", prefix='fa') ).add_to(basic_map) # annotate GPS location w/ SSID\n",
    "print(f\"total APs: {len(wd['MAC'].unique())}\")    \n",
    "display(basic_map)"
   ]
  },
  {
   "cell_type": "markdown",
   "metadata": {},
   "source": [
    "# "
   ]
  },
  {
   "cell_type": "markdown",
   "metadata": {},
   "source": [
    "# "
   ]
  },
  {
   "cell_type": "markdown",
   "metadata": {},
   "source": [
    "# "
   ]
  },
  {
   "cell_type": "markdown",
   "metadata": {},
   "source": [
    "# "
   ]
  },
  {
   "cell_type": "markdown",
   "metadata": {},
   "source": [
    "# plot all WPS-enabled wifi with highest signal strength"
   ]
  },
  {
   "cell_type": "code",
   "execution_count": null,
   "metadata": {
    "scrolled": true
   },
   "outputs": [],
   "source": [
    "importdataset()\n",
    "wd.sample(5)"
   ]
  },
  {
   "cell_type": "code",
   "execution_count": null,
   "metadata": {
    "scrolled": true
   },
   "outputs": [],
   "source": [
    "wd['AuthMode'].value_counts()"
   ]
  },
  {
   "cell_type": "code",
   "execution_count": null,
   "metadata": {},
   "outputs": [],
   "source": [
    "# make a sorted list of authmodes used\n",
    "wd_sorted_list = pd.DataFrame (wd, columns=['AuthMode']).value_counts().rename_axis('Auth_sorted').reset_index(name='counts')\n",
    "wd_sorted_list"
   ]
  },
  {
   "cell_type": "code",
   "execution_count": null,
   "metadata": {},
   "outputs": [],
   "source": [
    "# Pie chart, where the slices will be ordered and plotted counter-clockwise:\n",
    "labels = wd_sorted_list['Auth_sorted']\n",
    "sizes = wd_sorted_list['counts']\n",
    "\n",
    "fig1, ax1 = plt.subplots()\n",
    "ax1.pie(sizes,  labels=labels, autopct='%1.1f%%',\n",
    "        shadow=True, startangle=90)\n",
    "ax1.axis('equal')  # Equal aspect ratio ensures that pie is drawn as a circle.\n",
    "plt.show()"
   ]
  },
  {
   "cell_type": "code",
   "execution_count": null,
   "metadata": {},
   "outputs": [],
   "source": [
    "ap_total=len(wd)\n",
    "ap_use_wps=len(pd.DataFrame( wd.loc[lambda x: (wd['AuthMode'].str.find('WPS') != -1), :]))\n",
    "# Pie chart, where the slices will be ordered and plotted counter-clockwise:\n",
    "labels = \"all APs\", \"APs that use WPS\"\n",
    "sizes = [ap_total, ap_use_wps]\n",
    "\n",
    "fig1, ax1 = plt.subplots()\n",
    "ax1.pie(sizes,  labels=labels, autopct='%1.1f%%',\n",
    "        shadow=True, startangle=90)\n",
    "ax1.axis('equal')  # Equal aspect ratio ensures that pie is drawn as a circle.\n",
    "plt.show()"
   ]
  },
  {
   "cell_type": "code",
   "execution_count": null,
   "metadata": {},
   "outputs": [],
   "source": [
    "# drop all except those that use WPS\n",
    "wd = pd.DataFrame( wd.loc[lambda x: (wd['AuthMode'].str.find('WPS') != -1), :])\n",
    "wd = wd.reset_index(drop=True)\n",
    "wd.sample(5)"
   ]
  },
  {
   "cell_type": "code",
   "execution_count": null,
   "metadata": {},
   "outputs": [],
   "source": [
    "wd['AuthMode'].value_counts()"
   ]
  },
  {
   "cell_type": "code",
   "execution_count": null,
   "metadata": {},
   "outputs": [],
   "source": [
    "# make a sorted list of authmodes used\n",
    "wd_sorted_list = pd.DataFrame (wd, columns=['AuthMode']).value_counts().rename_axis('Auth_sorted').reset_index(name='counts')\n",
    "wd_sorted_list"
   ]
  },
  {
   "cell_type": "code",
   "execution_count": null,
   "metadata": {},
   "outputs": [],
   "source": [
    "# Pie chart, where the slices will be ordered and plotted counter-clockwise:\n",
    "labels = wd_sorted_list['Auth_sorted']\n",
    "sizes = wd_sorted_list['counts']\n",
    "\n",
    "fig1, ax1 = plt.subplots()\n",
    "ax1.pie(sizes,  labels=labels, autopct='%1.1f%%',\n",
    "        shadow=True, startangle=90)\n",
    "ax1.axis('equal')  # Equal aspect ratio ensures that pie is drawn as a circle.\n",
    "plt.show()"
   ]
  },
  {
   "cell_type": "code",
   "execution_count": null,
   "metadata": {},
   "outputs": [],
   "source": [
    "#color code authmodes\n",
    "wd[\"Color\"] = None\n",
    "for index, row in wd.iterrows():\n",
    "    if wd['Color'][index] == None:\n",
    "        wd.loc[wd['AuthMode'] == wd['AuthMode'][index],\"Color\"] = random.choice(color_list)"
   ]
  },
  {
   "cell_type": "code",
   "execution_count": null,
   "metadata": {
    "scrolled": true
   },
   "outputs": [],
   "source": [
    "pd.DataFrame (wd, columns=['Color','AuthMode']).value_counts()"
   ]
  },
  {
   "cell_type": "code",
   "execution_count": null,
   "metadata": {},
   "outputs": [],
   "source": [
    "lat = wd[\"CurrentLatitude\"][0]\n",
    "lon = wd[\"CurrentLongitude\"][0]\n",
    "basic_map = folium.Map(location=[lat, lon],zoom_start=17) # manually pick scope of map\n",
    "\n",
    "# add markers for every point in dataset \n",
    "for i in range(len(wd)): \n",
    "\n",
    "    if wd.loc[wd['SSID'] == wd['SSID'][i],\"RSSI\"].max() == wd[\"RSSI\"][i]: # only plot AP with highest signal strength\n",
    "        lat = wd[\"CurrentLatitude\"][i]\n",
    "        lon = wd[\"CurrentLongitude\"][i]\n",
    "        folium.Marker( location=[lat, lon], tooltip=f'SSID {wd[\"SSID\"][i]}, strength {wd[\"RSSI\"][i]}', icon=folium.Icon(icon=\"wifi\", color=wd[\"Color\"][i], prefix='fa') ).add_to(basic_map) # annotate GPS location w/ SSID\n",
    "print(f\"total APs: {len(wd['MAC'].unique())}\")    \n",
    "display(basic_map)"
   ]
  },
  {
   "cell_type": "code",
   "execution_count": null,
   "metadata": {},
   "outputs": [],
   "source": []
  },
  {
   "cell_type": "code",
   "execution_count": null,
   "metadata": {},
   "outputs": [],
   "source": []
  },
  {
   "cell_type": "code",
   "execution_count": null,
   "metadata": {},
   "outputs": [],
   "source": []
  },
  {
   "cell_type": "code",
   "execution_count": null,
   "metadata": {},
   "outputs": [],
   "source": []
  },
  {
   "cell_type": "markdown",
   "metadata": {},
   "source": [
    "# add vendor names to the dataset"
   ]
  },
  {
   "cell_type": "code",
   "execution_count": null,
   "metadata": {},
   "outputs": [],
   "source": [
    "# https://github.com/AlexLynd/ESP8266-Wardriving/blob/master/mac-vendors.txt\n",
    "mac_vendors = pd.read_csv ('mac-vendors.csv', names=(\"MAC\", \"Vendor\")) \n",
    "mac_vendors[\"MAC\"]= mac_vendors[\"MAC\"].str.lower()\n",
    "mac_vendors"
   ]
  },
  {
   "cell_type": "code",
   "execution_count": null,
   "metadata": {},
   "outputs": [],
   "source": [
    "importdataset()\n",
    "wd[\"MAC\"]= wd[\"MAC\"].str.lower()"
   ]
  },
  {
   "cell_type": "code",
   "execution_count": null,
   "metadata": {},
   "outputs": [],
   "source": [
    "#drop everything except those having valid MACs\n",
    "wd = wd.loc[(wd['MAC'].str.len() == 17)]\n",
    "wd = wd.drop_duplicates(subset = [\"MAC\"])\n",
    "wd = wd.reset_index(drop=True)\n",
    "len(wd)"
   ]
  },
  {
   "cell_type": "code",
   "execution_count": null,
   "metadata": {
    "scrolled": true
   },
   "outputs": [],
   "source": [
    "mac_vendors.loc[mac_vendors['MAC'] == wd['MAC'][0][:8],\"Vendor\"]"
   ]
  },
  {
   "cell_type": "code",
   "execution_count": null,
   "metadata": {},
   "outputs": [],
   "source": [
    "mac_vendors.loc[mac_vendors['MAC'] == wd['MAC'][0][:8],\"Vendor\"].values[0]"
   ]
  },
  {
   "cell_type": "code",
   "execution_count": null,
   "metadata": {},
   "outputs": [],
   "source": [
    "# wd['Vendor'] = None\n",
    "# for index, row in wd.iterrows():\n",
    "#     if wd['Vendor'][index] == None:\n",
    "#         cur_data = mac_vendors.loc[mac_vendors['MAC'] == row['MAC'][:8],\"Vendor\"]\n",
    "#         if len(cur_data) >0: #if there's a match\n",
    "#             wd[\"Vendor\"][index] = cur_data.values[0]\n",
    "            \n"
   ]
  },
  {
   "cell_type": "code",
   "execution_count": null,
   "metadata": {},
   "outputs": [],
   "source": [
    "wd['Vendor'] = None\n",
    "iters=0\n",
    "filled=0\n",
    "start_time = time.time()\n",
    "with tqdm(total=len(wd)) as bar:\n",
    "    for index, row in wd.iterrows():\n",
    "        bar.update(1)\n",
    "        if wd['Vendor'][index] == None:\n",
    "            iters+=1\n",
    "            cur_data = mac_vendors.loc[mac_vendors['MAC'] == row['MAC'][:8],\"Vendor\"]\n",
    "            if len(cur_data) >0: #if there's a match\n",
    "                wd.loc[row['MAC'][:8] == mac_vendors['MAC'],\"Vendor\"] = cur_data.values[0]\n",
    "                filled+=1\n",
    "print(f\"it took  {time.time()-start_time:.2f} sec. to run the code\")           \n",
    "print(f\"total rows: {len(wd)}, total iterations: {iters}, filled cells: {filled}\")"
   ]
  },
  {
   "cell_type": "code",
   "execution_count": null,
   "metadata": {},
   "outputs": [],
   "source": [
    "wd['Vendor'].isna().sum()"
   ]
  },
  {
   "cell_type": "code",
   "execution_count": null,
   "metadata": {},
   "outputs": [],
   "source": [
    "len(wd)"
   ]
  },
  {
   "cell_type": "code",
   "execution_count": null,
   "metadata": {},
   "outputs": [],
   "source": [
    "print(f\"number of unique MACs: {len(mac_vendors['MAC'].unique())}\")"
   ]
  },
  {
   "cell_type": "code",
   "execution_count": null,
   "metadata": {},
   "outputs": [],
   "source": [
    "len(mac_vendors)"
   ]
  },
  {
   "cell_type": "code",
   "execution_count": null,
   "metadata": {},
   "outputs": [],
   "source": [
    "wd[\"Vendor\"].value_counts().head(30)"
   ]
  },
  {
   "cell_type": "code",
   "execution_count": null,
   "metadata": {},
   "outputs": [],
   "source": [
    "# "
   ]
  }
 ],
 "metadata": {
  "colab": {
   "authorship_tag": "ABX9TyM1sYMD4/MtngweadK5jn/+",
   "include_colab_link": true,
   "name": "Basic Wardriving Plot.ipynb",
   "provenance": []
  },
  "kernelspec": {
   "display_name": "Python 3 (ipykernel)",
   "language": "python",
   "name": "python3"
  },
  "language_info": {
   "codemirror_mode": {
    "name": "ipython",
    "version": 3
   },
   "file_extension": ".py",
   "mimetype": "text/x-python",
   "name": "python",
   "nbconvert_exporter": "python",
   "pygments_lexer": "ipython3",
   "version": "3.8.10"
  }
 },
 "nbformat": 4,
 "nbformat_minor": 1
}
